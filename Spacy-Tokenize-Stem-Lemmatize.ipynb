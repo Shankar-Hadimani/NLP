{
 "cells": [
  {
   "cell_type": "code",
   "execution_count": 7,
   "id": "3fb36f7d",
   "metadata": {},
   "outputs": [
    {
     "name": "stdout",
     "output_type": "stream",
     "text": [
      "Requirement already satisfied: protobuf==3.20.1 in c:\\users\\sd991188\\anaconda3\\envs\\tensorflow\\lib\\site-packages (3.20.1)\n"
     ]
    },
    {
     "name": "stderr",
     "output_type": "stream",
     "text": [
      "WARNING: Ignoring invalid distribution -rotobuf (c:\\users\\sd991188\\anaconda3\\envs\\tensorflow\\lib\\site-packages)\n",
      "WARNING: Ignoring invalid distribution -rotobuf (c:\\users\\sd991188\\anaconda3\\envs\\tensorflow\\lib\\site-packages)\n",
      "WARNING: Ignoring invalid distribution -rotobuf (c:\\users\\sd991188\\anaconda3\\envs\\tensorflow\\lib\\site-packages)\n",
      "WARNING: Ignoring invalid distribution -rotobuf (c:\\users\\sd991188\\anaconda3\\envs\\tensorflow\\lib\\site-packages)\n",
      "WARNING: Ignoring invalid distribution -rotobuf (c:\\users\\sd991188\\anaconda3\\envs\\tensorflow\\lib\\site-packages)\n",
      "WARNING: Ignoring invalid distribution -rotobuf (c:\\users\\sd991188\\anaconda3\\envs\\tensorflow\\lib\\site-packages)\n"
     ]
    }
   ],
   "source": [
    "!pip install protobuf==3.20.1"
   ]
  },
  {
   "cell_type": "code",
   "execution_count": 5,
   "id": "874ed153",
   "metadata": {},
   "outputs": [
    {
     "name": "stdout",
     "output_type": "stream",
     "text": [
      "Collecting en-core-web-sm==3.4.0"
     ]
    },
    {
     "name": "stderr",
     "output_type": "stream",
     "text": [
      "2022-08-28 09:31:08.145361: W tensorflow/stream_executor/platform/default/dso_loader.cc:64] Could not load dynamic library 'cudart64_110.dll'; dlerror: cudart64_110.dll not found\n",
      "2022-08-28 09:31:08.145433: I tensorflow/stream_executor/cuda/cudart_stub.cc:29] Ignore above cudart dlerror if you do not have a GPU set up on your machine.\n",
      "2022-08-28 09:31:23.344280: W tensorflow/stream_executor/platform/default/dso_loader.cc:64] Could not load dynamic library 'nvcuda.dll'; dlerror: nvcuda.dll not found\n",
      "2022-08-28 09:31:23.344326: W tensorflow/stream_executor/cuda/cuda_driver.cc:269] failed call to cuInit: UNKNOWN ERROR (303)\n",
      "2022-08-28 09:31:23.363912: I tensorflow/stream_executor/cuda/cuda_diagnostics.cc:169] retrieving CUDA diagnostic information for host: WREWL19H60642\n",
      "2022-08-28 09:31:23.364252: I tensorflow/stream_executor/cuda/cuda_diagnostics.cc:176] hostname: WREWL19H60642\n",
      "WARNING: Ignoring invalid distribution -rotobuf (c:\\users\\sd991188\\anaconda3\\envs\\tensorflow\\lib\\site-packages)\n",
      "WARNING: Ignoring invalid distribution -rotobuf (c:\\users\\sd991188\\anaconda3\\envs\\tensorflow\\lib\\site-packages)\n",
      "WARNING: Ignoring invalid distribution -rotobuf (c:\\users\\sd991188\\anaconda3\\envs\\tensorflow\\lib\\site-packages)\n",
      "WARNING: Ignoring invalid distribution -rotobuf (c:\\users\\sd991188\\anaconda3\\envs\\tensorflow\\lib\\site-packages)\n",
      "WARNING: Ignoring invalid distribution -rotobuf (c:\\users\\sd991188\\anaconda3\\envs\\tensorflow\\lib\\site-packages)\n",
      "WARNING: Ignoring invalid distribution -rotobuf (c:\\users\\sd991188\\anaconda3\\envs\\tensorflow\\lib\\site-packages)\n",
      "WARNING: Ignoring invalid distribution -rotobuf (c:\\users\\sd991188\\anaconda3\\envs\\tensorflow\\lib\\site-packages)\n"
     ]
    },
    {
     "name": "stdout",
     "output_type": "stream",
     "text": [
      "\n",
      "  Downloading https://github.com/explosion/spacy-models/releases/download/en_core_web_sm-3.4.0/en_core_web_sm-3.4.0-py3-none-any.whl (12.8 MB)\n",
      "     --------------------------------------- 12.8/12.8 MB 12.3 MB/s eta 0:00:00\n",
      "Requirement already satisfied: spacy<3.5.0,>=3.4.0 in c:\\users\\sd991188\\anaconda3\\envs\\tensorflow\\lib\\site-packages (from en-core-web-sm==3.4.0) (3.4.1)\n",
      "Requirement already satisfied: packaging>=20.0 in c:\\users\\sd991188\\anaconda3\\envs\\tensorflow\\lib\\site-packages (from spacy<3.5.0,>=3.4.0->en-core-web-sm==3.4.0) (21.3)\n",
      "Requirement already satisfied: pydantic!=1.8,!=1.8.1,<1.10.0,>=1.7.4 in c:\\users\\sd991188\\anaconda3\\envs\\tensorflow\\lib\\site-packages (from spacy<3.5.0,>=3.4.0->en-core-web-sm==3.4.0) (1.9.2)\n",
      "Requirement already satisfied: thinc<8.2.0,>=8.1.0 in c:\\users\\sd991188\\anaconda3\\envs\\tensorflow\\lib\\site-packages (from spacy<3.5.0,>=3.4.0->en-core-web-sm==3.4.0) (8.1.0)\n",
      "Requirement already satisfied: catalogue<2.1.0,>=2.0.6 in c:\\users\\sd991188\\anaconda3\\envs\\tensorflow\\lib\\site-packages (from spacy<3.5.0,>=3.4.0->en-core-web-sm==3.4.0) (2.0.8)\n",
      "Requirement already satisfied: typer<0.5.0,>=0.3.0 in c:\\users\\sd991188\\anaconda3\\envs\\tensorflow\\lib\\site-packages (from spacy<3.5.0,>=3.4.0->en-core-web-sm==3.4.0) (0.4.2)\n",
      "Requirement already satisfied: cymem<2.1.0,>=2.0.2 in c:\\users\\sd991188\\anaconda3\\envs\\tensorflow\\lib\\site-packages (from spacy<3.5.0,>=3.4.0->en-core-web-sm==3.4.0) (2.0.6)\n",
      "Requirement already satisfied: jinja2 in c:\\users\\sd991188\\anaconda3\\envs\\tensorflow\\lib\\site-packages (from spacy<3.5.0,>=3.4.0->en-core-web-sm==3.4.0) (3.0.3)\n",
      "Requirement already satisfied: wasabi<1.1.0,>=0.9.1 in c:\\users\\sd991188\\anaconda3\\envs\\tensorflow\\lib\\site-packages (from spacy<3.5.0,>=3.4.0->en-core-web-sm==3.4.0) (0.10.1)\n",
      "Requirement already satisfied: preshed<3.1.0,>=3.0.2 in c:\\users\\sd991188\\anaconda3\\envs\\tensorflow\\lib\\site-packages (from spacy<3.5.0,>=3.4.0->en-core-web-sm==3.4.0) (3.0.7)\n",
      "Requirement already satisfied: murmurhash<1.1.0,>=0.28.0 in c:\\users\\sd991188\\anaconda3\\envs\\tensorflow\\lib\\site-packages (from spacy<3.5.0,>=3.4.0->en-core-web-sm==3.4.0) (1.0.8)\n",
      "Requirement already satisfied: numpy>=1.15.0 in c:\\users\\sd991188\\anaconda3\\envs\\tensorflow\\lib\\site-packages (from spacy<3.5.0,>=3.4.0->en-core-web-sm==3.4.0) (1.23.2)\n",
      "Requirement already satisfied: setuptools in c:\\users\\sd991188\\anaconda3\\envs\\tensorflow\\lib\\site-packages (from spacy<3.5.0,>=3.4.0->en-core-web-sm==3.4.0) (61.2.0)\n",
      "Requirement already satisfied: pathy>=0.3.5 in c:\\users\\sd991188\\anaconda3\\envs\\tensorflow\\lib\\site-packages (from spacy<3.5.0,>=3.4.0->en-core-web-sm==3.4.0) (0.6.2)\n",
      "Requirement already satisfied: spacy-loggers<2.0.0,>=1.0.0 in c:\\users\\sd991188\\anaconda3\\envs\\tensorflow\\lib\\site-packages (from spacy<3.5.0,>=3.4.0->en-core-web-sm==3.4.0) (1.0.3)\n",
      "Requirement already satisfied: langcodes<4.0.0,>=3.2.0 in c:\\users\\sd991188\\anaconda3\\envs\\tensorflow\\lib\\site-packages (from spacy<3.5.0,>=3.4.0->en-core-web-sm==3.4.0) (3.3.0)\n",
      "Requirement already satisfied: requests<3.0.0,>=2.13.0 in c:\\users\\sd991188\\anaconda3\\envs\\tensorflow\\lib\\site-packages (from spacy<3.5.0,>=3.4.0->en-core-web-sm==3.4.0) (2.28.1)\n",
      "Requirement already satisfied: spacy-legacy<3.1.0,>=3.0.9 in c:\\users\\sd991188\\anaconda3\\envs\\tensorflow\\lib\\site-packages (from spacy<3.5.0,>=3.4.0->en-core-web-sm==3.4.0) (3.0.10)\n",
      "Requirement already satisfied: tqdm<5.0.0,>=4.38.0 in c:\\users\\sd991188\\anaconda3\\envs\\tensorflow\\lib\\site-packages (from spacy<3.5.0,>=3.4.0->en-core-web-sm==3.4.0) (4.64.0)\n",
      "Requirement already satisfied: srsly<3.0.0,>=2.4.3 in c:\\users\\sd991188\\anaconda3\\envs\\tensorflow\\lib\\site-packages (from spacy<3.5.0,>=3.4.0->en-core-web-sm==3.4.0) (2.4.4)\n",
      "Requirement already satisfied: pyparsing!=3.0.5,>=2.0.2 in c:\\users\\sd991188\\anaconda3\\envs\\tensorflow\\lib\\site-packages (from packaging>=20.0->spacy<3.5.0,>=3.4.0->en-core-web-sm==3.4.0) (3.0.9)\n",
      "Requirement already satisfied: smart-open<6.0.0,>=5.2.1 in c:\\users\\sd991188\\anaconda3\\envs\\tensorflow\\lib\\site-packages (from pathy>=0.3.5->spacy<3.5.0,>=3.4.0->en-core-web-sm==3.4.0) (5.2.1)\n",
      "Requirement already satisfied: typing-extensions>=3.7.4.3 in c:\\users\\sd991188\\anaconda3\\envs\\tensorflow\\lib\\site-packages (from pydantic!=1.8,!=1.8.1,<1.10.0,>=1.7.4->spacy<3.5.0,>=3.4.0->en-core-web-sm==3.4.0) (4.3.0)\n",
      "Requirement already satisfied: charset-normalizer<3,>=2 in c:\\users\\sd991188\\anaconda3\\envs\\tensorflow\\lib\\site-packages (from requests<3.0.0,>=2.13.0->spacy<3.5.0,>=3.4.0->en-core-web-sm==3.4.0) (2.1.0)\n",
      "Requirement already satisfied: idna<4,>=2.5 in c:\\users\\sd991188\\anaconda3\\envs\\tensorflow\\lib\\site-packages (from requests<3.0.0,>=2.13.0->spacy<3.5.0,>=3.4.0->en-core-web-sm==3.4.0) (3.3)\n",
      "Requirement already satisfied: urllib3<1.27,>=1.21.1 in c:\\users\\sd991188\\anaconda3\\envs\\tensorflow\\lib\\site-packages (from requests<3.0.0,>=2.13.0->spacy<3.5.0,>=3.4.0->en-core-web-sm==3.4.0) (1.26.11)\n",
      "Requirement already satisfied: certifi>=2017.4.17 in c:\\users\\sd991188\\anaconda3\\envs\\tensorflow\\lib\\site-packages (from requests<3.0.0,>=2.13.0->spacy<3.5.0,>=3.4.0->en-core-web-sm==3.4.0) (2022.6.15)\n",
      "Requirement already satisfied: blis<0.8.0,>=0.7.8 in c:\\users\\sd991188\\anaconda3\\envs\\tensorflow\\lib\\site-packages (from thinc<8.2.0,>=8.1.0->spacy<3.5.0,>=3.4.0->en-core-web-sm==3.4.0) (0.7.8)\n",
      "Requirement already satisfied: colorama in c:\\users\\sd991188\\anaconda3\\envs\\tensorflow\\lib\\site-packages (from tqdm<5.0.0,>=4.38.0->spacy<3.5.0,>=3.4.0->en-core-web-sm==3.4.0) (0.4.5)\n",
      "Requirement already satisfied: click<9.0.0,>=7.1.1 in c:\\users\\sd991188\\anaconda3\\envs\\tensorflow\\lib\\site-packages (from typer<0.5.0,>=0.3.0->spacy<3.5.0,>=3.4.0->en-core-web-sm==3.4.0) (8.1.3)\n",
      "Requirement already satisfied: MarkupSafe>=2.0 in c:\\users\\sd991188\\anaconda3\\envs\\tensorflow\\lib\\site-packages (from jinja2->spacy<3.5.0,>=3.4.0->en-core-web-sm==3.4.0) (2.1.1)\n",
      "Installing collected packages: en-core-web-sm\n",
      "Successfully installed en-core-web-sm-3.4.0\n",
      "[!] As of spaCy v3.0, shortcuts like 'en' are deprecated. Please use the full\n",
      "pipeline package name 'en_core_web_sm' instead.\n",
      "[+] Download and installation successful\n",
      "You can now load the package via spacy.load('en_core_web_sm')\n"
     ]
    }
   ],
   "source": [
    "!python -m spacy download en"
   ]
  },
  {
   "cell_type": "code",
   "execution_count": 6,
   "id": "0bab2c58",
   "metadata": {},
   "outputs": [],
   "source": [
    "import spacy"
   ]
  },
  {
   "cell_type": "code",
   "execution_count": 11,
   "id": "bb7f5c5e",
   "metadata": {},
   "outputs": [],
   "source": [
    "nlp = spacy.blank('en')"
   ]
  },
  {
   "cell_type": "code",
   "execution_count": 12,
   "id": "8b5f7374",
   "metadata": {},
   "outputs": [],
   "source": [
    "nlp = spacy.load(\"en_core_web_sm\")"
   ]
  },
  {
   "cell_type": "markdown",
   "id": "9028281d",
   "metadata": {},
   "source": [
    "### TOKENIZER"
   ]
  },
  {
   "cell_type": "code",
   "execution_count": 17,
   "id": "9f8b7feb",
   "metadata": {},
   "outputs": [
    {
     "name": "stdout",
     "output_type": "stream",
     "text": [
      "Dr.\n",
      "Strange\n",
      "loves\n",
      "pav\n",
      "bhaji\n",
      "of\n",
      "mumbai\n",
      ".\n",
      "Hulk\n",
      "loves\n",
      "chat\n",
      "of\n",
      "delhi\n"
     ]
    }
   ],
   "source": [
    "doc = nlp(\"Dr. Strange loves pav bhaji of mumbai. Hulk loves chat of delhi\")\n",
    "for token in doc:\n",
    "    print(token)"
   ]
  },
  {
   "cell_type": "markdown",
   "id": "48d688f6",
   "metadata": {},
   "source": [
    "### SENTENCE segmentation"
   ]
  },
  {
   "cell_type": "code",
   "execution_count": 18,
   "id": "0b837936",
   "metadata": {},
   "outputs": [
    {
     "name": "stdout",
     "output_type": "stream",
     "text": [
      "Dr. Strange loves pav bhaji of mumbai.\n",
      "Hulk loves chat of delhi\n"
     ]
    }
   ],
   "source": [
    "for sentence in doc.sents:\n",
    "    print(sentence)"
   ]
  },
  {
   "cell_type": "code",
   "execution_count": 20,
   "id": "f21e12bb",
   "metadata": {},
   "outputs": [
    {
     "data": {
      "text/plain": [
       "spacy.lang.en.English"
      ]
     },
     "execution_count": 20,
     "metadata": {},
     "output_type": "execute_result"
    }
   ],
   "source": [
    "type(nlp)"
   ]
  },
  {
   "cell_type": "code",
   "execution_count": 21,
   "id": "19b091c7",
   "metadata": {},
   "outputs": [
    {
     "data": {
      "text/plain": [
       "spacy.tokens.doc.Doc"
      ]
     },
     "execution_count": 21,
     "metadata": {},
     "output_type": "execute_result"
    }
   ],
   "source": [
    "type(doc)"
   ]
  },
  {
   "cell_type": "code",
   "execution_count": 22,
   "id": "4992260a",
   "metadata": {},
   "outputs": [
    {
     "data": {
      "text/plain": [
       "spacy.tokens.token.Token"
      ]
     },
     "execution_count": 22,
     "metadata": {},
     "output_type": "execute_result"
    }
   ],
   "source": [
    "type(toekn)"
   ]
  },
  {
   "cell_type": "code",
   "execution_count": 23,
   "id": "165b1ba1",
   "metadata": {},
   "outputs": [
    {
     "data": {
      "text/plain": [
       "Strange"
      ]
     },
     "execution_count": 23,
     "metadata": {},
     "output_type": "execute_result"
    }
   ],
   "source": [
    "doc[1]"
   ]
  },
  {
   "cell_type": "code",
   "execution_count": 25,
   "id": "3c6756bc",
   "metadata": {},
   "outputs": [
    {
     "data": {
      "text/plain": [
       "Strange loves pav bhaji"
      ]
     },
     "execution_count": 25,
     "metadata": {},
     "output_type": "execute_result"
    }
   ],
   "source": [
    "doc[1:5]"
   ]
  },
  {
   "cell_type": "code",
   "execution_count": 31,
   "id": "c072e37d",
   "metadata": {},
   "outputs": [],
   "source": [
    "doc = nlp(\"Tony gave two $ to peter\")"
   ]
  },
  {
   "cell_type": "code",
   "execution_count": 32,
   "id": "0f04ee4d",
   "metadata": {},
   "outputs": [
    {
     "name": "stdout",
     "output_type": "stream",
     "text": [
      "Tony gave\n"
     ]
    }
   ],
   "source": [
    "token0, token1 = doc[0], doc[1]\n",
    "print(token0, token1)"
   ]
  },
  {
   "cell_type": "code",
   "execution_count": 33,
   "id": "a6698cb1",
   "metadata": {},
   "outputs": [
    {
     "data": {
      "text/plain": [
       "spacy.tokens.token.Token"
      ]
     },
     "execution_count": 33,
     "metadata": {},
     "output_type": "execute_result"
    }
   ],
   "source": [
    "type(token0)"
   ]
  },
  {
   "cell_type": "code",
   "execution_count": 34,
   "id": "58bcee9e",
   "metadata": {},
   "outputs": [
    {
     "data": {
      "text/plain": [
       "False"
      ]
     },
     "execution_count": 34,
     "metadata": {},
     "output_type": "execute_result"
    }
   ],
   "source": [
    "token0.like_num"
   ]
  },
  {
   "cell_type": "code",
   "execution_count": 36,
   "id": "b7de69e3",
   "metadata": {},
   "outputs": [
    {
     "name": "stdout",
     "output_type": "stream",
     "text": [
      "<class 'spacy.tokens.token.Token'>\n",
      "two\n"
     ]
    }
   ],
   "source": [
    "token2 = doc[2]\n",
    "print(type(token2))\n",
    "print(token2)"
   ]
  },
  {
   "cell_type": "code",
   "execution_count": 37,
   "id": "fc921378",
   "metadata": {},
   "outputs": [
    {
     "data": {
      "text/plain": [
       "True"
      ]
     },
     "execution_count": 37,
     "metadata": {},
     "output_type": "execute_result"
    }
   ],
   "source": [
    "token2.like_num"
   ]
  },
  {
   "cell_type": "code",
   "execution_count": 38,
   "id": "dd2bb1e9",
   "metadata": {},
   "outputs": [
    {
     "name": "stdout",
     "output_type": "stream",
     "text": [
      "<class 'spacy.tokens.token.Token'>\n",
      "$\n"
     ]
    }
   ],
   "source": [
    "token3 = doc[3]\n",
    "print(type(token3))\n",
    "print(token3)"
   ]
  },
  {
   "cell_type": "code",
   "execution_count": 39,
   "id": "3d008989",
   "metadata": {},
   "outputs": [
    {
     "data": {
      "text/plain": [
       "True"
      ]
     },
     "execution_count": 39,
     "metadata": {},
     "output_type": "execute_result"
    }
   ],
   "source": [
    "token3.is_currency"
   ]
  },
  {
   "cell_type": "code",
   "execution_count": 41,
   "id": "29f216cf",
   "metadata": {},
   "outputs": [],
   "source": [
    "nlp = spacy.blank('kn')"
   ]
  },
  {
   "cell_type": "code",
   "execution_count": 50,
   "id": "ad0bc66b",
   "metadata": {},
   "outputs": [],
   "source": [
    "doc = nlp(\"  ಕನ್ನಡಿಗರಿಗೆ ನಮಸ್ಕರಗಳು, ಅರಮವಾಗಿ ಬದುಕಿ ಬಾಳಿ#. 2022. £2058909686\")"
   ]
  },
  {
   "cell_type": "code",
   "execution_count": 51,
   "id": "f62f18ce",
   "metadata": {},
   "outputs": [
    {
     "name": "stdout",
     "output_type": "stream",
     "text": [
      "  \n",
      "   False False\n",
      "ಕನ್ನಡಿಗರಿಗೆ\n",
      "ಕನ್ನಡಿಗರಿಗೆ False False\n",
      "ನಮಸ್ಕರಗಳು\n",
      "ನಮಸ್ಕರಗಳು False False\n",
      ",\n",
      ", False False\n",
      "ಅರಮವಾಗಿ\n",
      "ಅರಮವಾಗಿ False False\n",
      "ಬದುಕಿ\n",
      "ಬದುಕಿ False False\n",
      "ಬಾಳಿ\n",
      "ಬಾಳಿ False False\n",
      "#\n",
      "# False False\n",
      ".\n",
      ". False False\n",
      "2022\n",
      "2022 False True\n",
      ".\n",
      ". False False\n",
      "£\n",
      "£ True False\n",
      "2058909686\n",
      "2058909686 False True\n"
     ]
    }
   ],
   "source": [
    "for token in doc:\n",
    "    print(token)\n",
    "    print(token, token.is_currency, token.like_num)"
   ]
  },
  {
   "cell_type": "code",
   "execution_count": 54,
   "id": "adc3207f",
   "metadata": {},
   "outputs": [
    {
     "data": {
      "text/plain": [
       "['gimme', 'me', 'double', 'cheese', 'extra', 'large', 'helathy', 'pizza']"
      ]
     },
     "execution_count": 54,
     "metadata": {},
     "output_type": "execute_result"
    }
   ],
   "source": [
    "doc = nlp(\"gimme me double cheese extra large helathy pizza\")\n",
    "tokens = [token.text for token in doc]\n",
    "tokens"
   ]
  },
  {
   "cell_type": "code",
   "execution_count": 55,
   "id": "71d3b79a",
   "metadata": {},
   "outputs": [
    {
     "data": {
      "text/plain": [
       "['gim', 'me', 'me', 'double', 'cheese', 'extra', 'large', 'helathy', 'pizza']"
      ]
     },
     "execution_count": 55,
     "metadata": {},
     "output_type": "execute_result"
    }
   ],
   "source": [
    "from spacy.symbols import ORTH\n",
    "\n",
    "nlp.tokenizer.add_special_case(\"gimme\",[\n",
    "    {ORTH:\"gim\"},\n",
    "    {ORTH:\"me\"}\n",
    "])\n",
    "\n",
    "doc = nlp(\"gimme me double cheese extra large helathy pizza\")\n",
    "tokens = [token.text for token in doc]\n",
    "tokens"
   ]
  },
  {
   "cell_type": "code",
   "execution_count": 56,
   "id": "72a87707",
   "metadata": {},
   "outputs": [
    {
     "data": {
      "text/plain": [
       "[]"
      ]
     },
     "execution_count": 56,
     "metadata": {},
     "output_type": "execute_result"
    }
   ],
   "source": [
    "nlp.pipe_names"
   ]
  },
  {
   "cell_type": "markdown",
   "id": "e4d4dab0",
   "metadata": {},
   "source": [
    "### adding pipe names\n",
    "\n",
    "This adds pipelines "
   ]
  },
  {
   "cell_type": "code",
   "execution_count": 58,
   "id": "6c6328d1",
   "metadata": {},
   "outputs": [],
   "source": [
    "import spacy\n",
    "nlp = spacy.load(\"en_core_web_sm\")"
   ]
  },
  {
   "cell_type": "code",
   "execution_count": 60,
   "id": "f1290c1a",
   "metadata": {},
   "outputs": [
    {
     "data": {
      "text/plain": [
       "['tok2vec', 'tagger', 'parser', 'attribute_ruler', 'lemmatizer', 'ner']"
      ]
     },
     "execution_count": 60,
     "metadata": {},
     "output_type": "execute_result"
    }
   ],
   "source": [
    "nlp.pipe_names"
   ]
  },
  {
   "cell_type": "code",
   "execution_count": 62,
   "id": "9443e421",
   "metadata": {},
   "outputs": [
    {
     "data": {
      "text/plain": [
       "[('tok2vec', <spacy.pipeline.tok2vec.Tok2Vec at 0x1ec51f0ac80>),\n",
       " ('tagger', <spacy.pipeline.tagger.Tagger at 0x1ec51f08ee0>),\n",
       " ('parser', <spacy.pipeline.dep_parser.DependencyParser at 0x1ec52701c40>),\n",
       " ('attribute_ruler',\n",
       "  <spacy.pipeline.attributeruler.AttributeRuler at 0x1ec565c6080>),\n",
       " ('lemmatizer', <spacy.lang.en.lemmatizer.EnglishLemmatizer at 0x1ec51da0d80>),\n",
       " ('ner', <spacy.pipeline.ner.EntityRecognizer at 0x1ec52701d20>)]"
      ]
     },
     "execution_count": 62,
     "metadata": {},
     "output_type": "execute_result"
    }
   ],
   "source": [
    "nlp.pipeline"
   ]
  },
  {
   "cell_type": "code",
   "execution_count": 63,
   "id": "db2bb412",
   "metadata": {},
   "outputs": [
    {
     "name": "stdout",
     "output_type": "stream",
     "text": [
      "Tesla  |  PROPN  |  Tesla\n",
      "Inc  |  PROPN  |  Inc\n",
      "is  |  AUX  |  be\n",
      "going  |  VERB  |  go\n",
      "to  |  PART  |  to\n",
      "acquire  |  VERB  |  acquire\n",
      "twitter  |  NOUN  |  twitter\n",
      "for  |  ADP  |  for\n",
      "$  |  SYM  |  $\n",
      "45  |  NUM  |  45\n",
      "billion  |  NUM  |  billion\n"
     ]
    }
   ],
   "source": [
    "doc = nlp(\"Tesla Inc is going to acquire twitter for $45 billion\")\n",
    "\n",
    "for token in doc:\n",
    "    print(token, \" | \", token.pos_, \" | \", token.lemma_)"
   ]
  },
  {
   "cell_type": "code",
   "execution_count": 66,
   "id": "9961bc69",
   "metadata": {},
   "outputs": [
    {
     "name": "stdout",
     "output_type": "stream",
     "text": [
      "Tesla Inc  |  ORG Companies, agencies, institutions, etc.\n",
      "$45 billion  |  MONEY Monetary values, including unit\n"
     ]
    }
   ],
   "source": [
    "### NER (ner) :  - named entity recognization\n",
    "\n",
    "for ent in doc.ents:\n",
    "    print(ent.text, \" | \", ent.label_, spacy.explain(ent.label_))"
   ]
  },
  {
   "cell_type": "code",
   "execution_count": 67,
   "id": "446a1413",
   "metadata": {},
   "outputs": [
    {
     "data": {
      "text/html": [
       "<span class=\"tex2jax_ignore\"><div class=\"entities\" style=\"line-height: 2.5; direction: ltr\">\n",
       "<mark class=\"entity\" style=\"background: #7aecec; padding: 0.45em 0.6em; margin: 0 0.25em; line-height: 1; border-radius: 0.35em;\">\n",
       "    Tesla Inc\n",
       "    <span style=\"font-size: 0.8em; font-weight: bold; line-height: 1; border-radius: 0.35em; vertical-align: middle; margin-left: 0.5rem\">ORG</span>\n",
       "</mark>\n",
       " is going to acquire twitter for \n",
       "<mark class=\"entity\" style=\"background: #e4e7d2; padding: 0.45em 0.6em; margin: 0 0.25em; line-height: 1; border-radius: 0.35em;\">\n",
       "    $45 billion\n",
       "    <span style=\"font-size: 0.8em; font-weight: bold; line-height: 1; border-radius: 0.35em; vertical-align: middle; margin-left: 0.5rem\">MONEY</span>\n",
       "</mark>\n",
       "</div></span>"
      ],
      "text/plain": [
       "<IPython.core.display.HTML object>"
      ]
     },
     "metadata": {},
     "output_type": "display_data"
    }
   ],
   "source": [
    "from spacy import displacy\n",
    "\n",
    "displacy.render(doc, style=\"ent\")"
   ]
  },
  {
   "cell_type": "code",
   "execution_count": 73,
   "id": "eee62a54",
   "metadata": {},
   "outputs": [
    {
     "name": "stdout",
     "output_type": "stream",
     "text": [
      "Tesla Inc ORG ||  FAC ||  Buildings, airports, highways, bridges, etc.\n",
      "Twitter ||  ORG ||  Companies, agencies, institutions, etc.\n",
      "$45 billion ||  MONEY ||  Monetary values, including unit\n"
     ]
    }
   ],
   "source": [
    "doc = nlp(\"Tesla Inc ORG is going to acquire Twitter for $45 billion MONEY\")\n",
    "for ent in doc.ents:\n",
    "    print(ent.text, \"|| \", ent.label_,  \"|| \",spacy.explain(ent.label_))"
   ]
  },
  {
   "cell_type": "code",
   "execution_count": 70,
   "id": "090ba4e2",
   "metadata": {},
   "outputs": [
    {
     "data": {
      "text/html": [
       "<span class=\"tex2jax_ignore\"><div class=\"entities\" style=\"line-height: 2.5; direction: ltr\">\n",
       "<mark class=\"entity\" style=\"background: #9cc9cc; padding: 0.45em 0.6em; margin: 0 0.25em; line-height: 1; border-radius: 0.35em;\">\n",
       "    Tesla Inc ORG\n",
       "    <span style=\"font-size: 0.8em; font-weight: bold; line-height: 1; border-radius: 0.35em; vertical-align: middle; margin-left: 0.5rem\">FAC</span>\n",
       "</mark>\n",
       " is going to acquire twitter for \n",
       "<mark class=\"entity\" style=\"background: #e4e7d2; padding: 0.45em 0.6em; margin: 0 0.25em; line-height: 1; border-radius: 0.35em;\">\n",
       "    $45 billion\n",
       "    <span style=\"font-size: 0.8em; font-weight: bold; line-height: 1; border-radius: 0.35em; vertical-align: middle; margin-left: 0.5rem\">MONEY</span>\n",
       "</mark>\n",
       " MONEY</div></span>"
      ],
      "text/plain": [
       "<IPython.core.display.HTML object>"
      ]
     },
     "metadata": {},
     "output_type": "display_data"
    }
   ],
   "source": [
    "displacy.render(doc, style=\"ent\")"
   ]
  },
  {
   "cell_type": "markdown",
   "id": "8961fc05",
   "metadata": {},
   "source": [
    "## CUSTOM Named Entity Recognizer instea dof whole default spacy english pipelines"
   ]
  },
  {
   "cell_type": "code",
   "execution_count": 74,
   "id": "a8892aa7",
   "metadata": {},
   "outputs": [
    {
     "data": {
      "text/plain": [
       "['ner']"
      ]
     },
     "execution_count": 74,
     "metadata": {},
     "output_type": "execute_result"
    }
   ],
   "source": [
    "source_nlp = spacy.load(\"en_core_web_sm\")\n",
    "\n",
    "nlp = spacy.blank(\"en\")\n",
    "nlp.add_pipe(\"ner\", source = source_nlp)\n",
    "nlp.pipe_names"
   ]
  },
  {
   "cell_type": "markdown",
   "id": "2da21859",
   "metadata": {},
   "source": [
    "## STEMMING and LEMMATIZATION"
   ]
  },
  {
   "cell_type": "markdown",
   "id": "95ba2e64",
   "metadata": {},
   "source": [
    "## stemming"
   ]
  },
  {
   "cell_type": "code",
   "execution_count": 79,
   "id": "a7dada82",
   "metadata": {},
   "outputs": [
    {
     "data": {
      "text/plain": [
       "'\\ntalking --> talk\\neating ---> eat\\nadjustable ---> adjust\\n\\nABILITY  ----> ABIL\\n'"
      ]
     },
     "execution_count": 79,
     "metadata": {},
     "output_type": "execute_result"
    }
   ],
   "source": [
    "## Remove suffixes eg: able , ing, er to get to base word, is called Stemming\n",
    "\n",
    "\"\"\"\n",
    "talking --> talk\n",
    "eating ---> eat\n",
    "adjustable ---> adjust\n",
    "\n",
    "ABILITY  ----> ABIL\n",
    "\"\"\""
   ]
  },
  {
   "cell_type": "markdown",
   "id": "5388964a",
   "metadata": {},
   "source": [
    "## LEMMA"
   ]
  },
  {
   "cell_type": "code",
   "execution_count": 78,
   "id": "5325bd5a",
   "metadata": {},
   "outputs": [
    {
     "data": {
      "text/plain": [
       "'\\nLinguistic knowledge based  lemmatization\\nBASE Word = LEMMA\\n\\n'"
      ]
     },
     "execution_count": 78,
     "metadata": {},
     "output_type": "execute_result"
    }
   ],
   "source": [
    "\"\"\"\n",
    "Linguistic knowledge based  lemmatization\n",
    "BASE Word = LEMMA\n",
    "\n",
    "\n",
    "example:\n",
    "\n",
    "ate --- > eat\n",
    "\n",
    "\"\"\""
   ]
  },
  {
   "cell_type": "markdown",
   "id": "f8871b47",
   "metadata": {},
   "source": [
    "# STEMMER in NLTK"
   ]
  },
  {
   "cell_type": "code",
   "execution_count": 81,
   "id": "73d76a3b",
   "metadata": {},
   "outputs": [
    {
     "name": "stdout",
     "output_type": "stream",
     "text": [
      "Collecting nltk\n",
      "  Downloading nltk-3.7-py3-none-any.whl (1.5 MB)\n",
      "     ---------------------------------------- 1.5/1.5 MB 10.6 MB/s eta 0:00:00\n",
      "Collecting regex>=2021.8.3\n",
      "  Downloading regex-2022.8.17-cp310-cp310-win_amd64.whl (263 kB)\n",
      "     -------------------------------------- 263.0/263.0 kB 8.2 MB/s eta 0:00:00\n",
      "Requirement already satisfied: click in c:\\users\\sd991188\\anaconda3\\envs\\tensorflow\\lib\\site-packages (from nltk) (8.1.3)\n",
      "Requirement already satisfied: tqdm in c:\\users\\sd991188\\anaconda3\\envs\\tensorflow\\lib\\site-packages (from nltk) (4.64.0)\n",
      "Collecting joblib\n",
      "  Downloading joblib-1.1.0-py2.py3-none-any.whl (306 kB)\n",
      "     -------------------------------------- 307.0/307.0 kB 6.3 MB/s eta 0:00:00\n",
      "Requirement already satisfied: colorama in c:\\users\\sd991188\\anaconda3\\envs\\tensorflow\\lib\\site-packages (from click->nltk) (0.4.5)\n",
      "Installing collected packages: regex, joblib, nltk\n",
      "Successfully installed joblib-1.1.0 nltk-3.7 regex-2022.8.17\n"
     ]
    },
    {
     "name": "stderr",
     "output_type": "stream",
     "text": [
      "WARNING: Ignoring invalid distribution -rotobuf (c:\\users\\sd991188\\anaconda3\\envs\\tensorflow\\lib\\site-packages)\n",
      "WARNING: Ignoring invalid distribution -rotobuf (c:\\users\\sd991188\\anaconda3\\envs\\tensorflow\\lib\\site-packages)\n",
      "WARNING: Ignoring invalid distribution -rotobuf (c:\\users\\sd991188\\anaconda3\\envs\\tensorflow\\lib\\site-packages)\n",
      "WARNING: Ignoring invalid distribution -rotobuf (c:\\users\\sd991188\\anaconda3\\envs\\tensorflow\\lib\\site-packages)\n",
      "WARNING: Ignoring invalid distribution -rotobuf (c:\\users\\sd991188\\anaconda3\\envs\\tensorflow\\lib\\site-packages)\n",
      "WARNING: Ignoring invalid distribution -rotobuf (c:\\users\\sd991188\\anaconda3\\envs\\tensorflow\\lib\\site-packages)\n",
      "WARNING: Ignoring invalid distribution -rotobuf (c:\\users\\sd991188\\anaconda3\\envs\\tensorflow\\lib\\site-packages)\n",
      "WARNING: Ignoring invalid distribution -rotobuf (c:\\users\\sd991188\\anaconda3\\envs\\tensorflow\\lib\\site-packages)\n",
      "WARNING: Ignoring invalid distribution -rotobuf (c:\\users\\sd991188\\anaconda3\\envs\\tensorflow\\lib\\site-packages)\n"
     ]
    }
   ],
   "source": [
    "!pip install nltk"
   ]
  },
  {
   "cell_type": "code",
   "execution_count": 82,
   "id": "c5e9678b",
   "metadata": {},
   "outputs": [],
   "source": [
    "import nltk\n",
    "import spacy"
   ]
  },
  {
   "cell_type": "code",
   "execution_count": 83,
   "id": "4bebdce9",
   "metadata": {},
   "outputs": [],
   "source": [
    "from nltk.stem import PorterStemmer"
   ]
  },
  {
   "cell_type": "code",
   "execution_count": 84,
   "id": "09cce95a",
   "metadata": {},
   "outputs": [],
   "source": [
    "stemmer = PorterStemmer()"
   ]
  },
  {
   "cell_type": "code",
   "execution_count": 89,
   "id": "51e7cc46",
   "metadata": {},
   "outputs": [
    {
     "name": "stdout",
     "output_type": "stream",
     "text": [
      "eating =======> eat\n",
      "eats =======> eat\n",
      "eat =======> eat\n",
      "ate =======> ate\n",
      "adjustable =======> adjust\n",
      "rafting =======> raft\n",
      "ability =======> abil\n",
      "meeting =======> meet\n",
      "better =======> better\n"
     ]
    }
   ],
   "source": [
    "words = [\"eating\",\"eats\",\"eat\",\"ate\", \"adjustable\",\"rafting\", \"ability\", \"meeting\",\"better\"]\n",
    "for word in words:\n",
    "    print(word, \"=======>\", stemmer.stem(word))"
   ]
  },
  {
   "cell_type": "code",
   "execution_count": 91,
   "id": "da740793",
   "metadata": {},
   "outputs": [
    {
     "name": "stdout",
     "output_type": "stream",
     "text": [
      "eating =======> eating =======> 12092082220177030354\n",
      "eats =======> eat =======> 9837207709914848172\n",
      "eat =======> eat =======> 9837207709914848172\n",
      "ate =======> eat =======> 9837207709914848172\n",
      "adjustable =======> adjustable =======> 6033511944150694480\n",
      "rafting =======> raft =======> 7154368781129989833\n",
      "ability =======> ability =======> 11565809527369121409\n",
      "meeting =======> meeting =======> 14798207169164081740\n",
      "better =======> well =======> 4525988469032889948\n"
     ]
    }
   ],
   "source": [
    "nlp = spacy.load(\"en_core_web_sm\")\n",
    "\n",
    "doc = nlp(\"eating eats eat ate adjustable rafting ability meeting better\")\n",
    "for token in doc:\n",
    "    print(token, \"=======>\", token.lemma_, \"=======>\", token.lemma)"
   ]
  },
  {
   "cell_type": "code",
   "execution_count": 94,
   "id": "9762af25",
   "metadata": {},
   "outputs": [
    {
     "name": "stdout",
     "output_type": "stream",
     "text": [
      "Mando =======> mando\n",
      "talked =======> talk\n",
      "for =======> for\n",
      "3 =======> 3\n",
      "hours =======> hour\n",
      "although =======> although\n",
      "talking =======> talking\n",
      "is =======> be\n",
      "n't =======> not\n",
      "his =======> his\n",
      "thing =======> thing\n",
      "and =======> and\n",
      "he =======> he\n",
      "became =======> become\n",
      "talkative =======> talkative\n"
     ]
    }
   ],
   "source": [
    "nlp = spacy.load(\"en_core_web_sm\")\n",
    "\n",
    "doc = nlp(\"Mando talked for 3 hours although talking isn't his thing and he became talkative\")\n",
    "for token in doc:\n",
    "    print(token, \"=======>\",token.lemma_)"
   ]
  },
  {
   "cell_type": "code",
   "execution_count": 97,
   "id": "9efd46cf",
   "metadata": {},
   "outputs": [
    {
     "data": {
      "text/plain": [
       "['tok2vec', 'tagger', 'parser', 'attribute_ruler', 'lemmatizer', 'ner']"
      ]
     },
     "execution_count": 97,
     "metadata": {},
     "output_type": "execute_result"
    }
   ],
   "source": [
    "nlp.pipe_names"
   ]
  },
  {
   "cell_type": "markdown",
   "id": "50a8f41d",
   "metadata": {},
   "source": [
    "# Customize lemmatizer"
   ]
  },
  {
   "cell_type": "code",
   "execution_count": 99,
   "id": "f3a1cda6",
   "metadata": {},
   "outputs": [
    {
     "name": "stdout",
     "output_type": "stream",
     "text": [
      "Bro =======> Brother\n",
      ", =======> ,\n",
      "you =======> you\n",
      "wanna =======> wanna\n",
      "go =======> go\n",
      "? =======> ?\n",
      "Brah =======> Brother\n",
      ", =======> ,\n",
      "do =======> do\n",
      "n't =======> not\n",
      "say =======> say\n",
      "no =======> no\n",
      "! =======> !\n",
      "I =======> I\n",
      "am =======> be\n",
      "exhausted =======> exhaust\n"
     ]
    }
   ],
   "source": [
    "import spacy\n",
    "nlp = spacy.load(\"en_core_web_sm\")\n",
    "\n",
    "\n",
    "ar = nlp.get_pipe('attribute_ruler')\n",
    "\n",
    "ar.add(\n",
    "    [\n",
    "     [{\"TEXT\":\"Bro\"}],\n",
    "     [{\"TEXT\":\"Brah\"}]\n",
    "    ],\n",
    "    {\"LEMMA\":\"Brother\"}\n",
    ")\n",
    "\n",
    "doc = nlp(\"Bro, you wanna go? Brah, don't say no! I am exhausted\")\n",
    "for token in doc:\n",
    "    print(token.text, \"=======>\", token.lemma_)"
   ]
  },
  {
   "cell_type": "code",
   "execution_count": 100,
   "id": "156732ce",
   "metadata": {},
   "outputs": [
    {
     "data": {
      "text/plain": [
       "'Brother'"
      ]
     },
     "execution_count": 100,
     "metadata": {},
     "output_type": "execute_result"
    }
   ],
   "source": [
    "doc[0].lemma_"
   ]
  },
  {
   "cell_type": "markdown",
   "id": "9bc602ec",
   "metadata": {},
   "source": [
    "# Part Of Speech"
   ]
  },
  {
   "cell_type": "code",
   "execution_count": 107,
   "id": "df5ccf3f",
   "metadata": {},
   "outputs": [
    {
     "name": "stdout",
     "output_type": "stream",
     "text": [
      "Inflation =======> NOUN =======> noun =======> NN =======> noun, singular or mass\n",
      "rose =======> VERB =======> verb =======> VBD =======> verb, past tense\n",
      "again =======> ADV =======> adverb =======> RB =======> adverb\n",
      "in =======> ADP =======> adposition =======> IN =======> conjunction, subordinating or preposition\n",
      "April =======> PROPN =======> proper noun =======> NNP =======> noun, proper singular\n",
      ", =======> PUNCT =======> punctuation =======> , =======> punctuation mark, comma\n",
      "continuing =======> VERB =======> verb =======> VBG =======> verb, gerund or present participle\n",
      "a =======> DET =======> determiner =======> DT =======> determiner\n",
      "climb =======> NOUN =======> noun =======> NN =======> noun, singular or mass\n",
      "that =======> PRON =======> pronoun =======> WDT =======> wh-determiner\n",
      "has =======> AUX =======> auxiliary =======> VBZ =======> verb, 3rd person singular present\n",
      "pushed =======> VERB =======> verb =======> VBN =======> verb, past participle\n",
      "consumers =======> NOUN =======> noun =======> NNS =======> noun, plural\n",
      "to =======> ADP =======> adposition =======> IN =======> conjunction, subordinating or preposition\n",
      "the =======> DET =======> determiner =======> DT =======> determiner\n",
      "brink =======> NOUN =======> noun =======> NN =======> noun, singular or mass\n",
      "and =======> CCONJ =======> coordinating conjunction =======> CC =======> conjunction, coordinating\n",
      "is =======> AUX =======> auxiliary =======> VBZ =======> verb, 3rd person singular present\n",
      "threatening =======> VERB =======> verb =======> VBG =======> verb, gerund or present participle\n",
      "the =======> DET =======> determiner =======> DT =======> determiner\n",
      "economic =======> ADJ =======> adjective =======> JJ =======> adjective (English), other noun-modifier (Chinese)\n",
      "expansion =======> NOUN =======> noun =======> NN =======> noun, singular or mass\n",
      ", =======> PUNCT =======> punctuation =======> , =======> punctuation mark, comma\n",
      "the =======> DET =======> determiner =======> DT =======> determiner\n",
      "Bureau =======> PROPN =======> proper noun =======> NNP =======> noun, proper singular\n",
      "of =======> ADP =======> adposition =======> IN =======> conjunction, subordinating or preposition\n",
      "Labor =======> PROPN =======> proper noun =======> NNP =======> noun, proper singular\n",
      "Statistics =======> PROPN =======> proper noun =======> NNPS =======> noun, proper plural\n",
      "reported =======> VERB =======> verb =======> VBD =======> verb, past tense\n",
      "Wednesday =======> PROPN =======> proper noun =======> NNP =======> noun, proper singular\n",
      ". =======> PUNCT =======> punctuation =======> . =======> punctuation mark, sentence closer\n",
      "\n",
      " =======> SPACE =======> space =======> _SP =======> whitespace\n",
      "The =======> DET =======> determiner =======> DT =======> determiner\n",
      "consumer =======> NOUN =======> noun =======> NN =======> noun, singular or mass\n",
      "price =======> NOUN =======> noun =======> NN =======> noun, singular or mass\n",
      "index =======> NOUN =======> noun =======> NN =======> noun, singular or mass\n",
      ", =======> PUNCT =======> punctuation =======> , =======> punctuation mark, comma\n",
      "a =======> DET =======> determiner =======> DT =======> determiner\n",
      "broad =======> ADV =======> adverb =======> RB =======> adverb\n",
      "- =======> PUNCT =======> punctuation =======> HYPH =======> punctuation mark, hyphen\n",
      "based =======> VERB =======> verb =======> VBN =======> verb, past participle\n",
      "measure =======> NOUN =======> noun =======> NN =======> noun, singular or mass\n",
      "of =======> ADP =======> adposition =======> IN =======> conjunction, subordinating or preposition\n",
      "prices =======> NOUN =======> noun =======> NNS =======> noun, plural\n",
      "for =======> ADP =======> adposition =======> IN =======> conjunction, subordinating or preposition\n",
      "goods =======> NOUN =======> noun =======> NNS =======> noun, plural\n",
      "and =======> CCONJ =======> coordinating conjunction =======> CC =======> conjunction, coordinating\n",
      "services =======> NOUN =======> noun =======> NNS =======> noun, plural\n",
      ", =======> PUNCT =======> punctuation =======> , =======> punctuation mark, comma\n",
      "increased =======> VERB =======> verb =======> VBD =======> verb, past tense\n",
      "8.3 =======> NUM =======> numeral =======> CD =======> cardinal number\n",
      "% =======> NOUN =======> noun =======> NN =======> noun, singular or mass\n",
      "from =======> ADP =======> adposition =======> IN =======> conjunction, subordinating or preposition\n",
      "a =======> DET =======> determiner =======> DT =======> determiner\n",
      "year =======> NOUN =======> noun =======> NN =======> noun, singular or mass\n",
      "ago =======> ADV =======> adverb =======> RB =======> adverb\n",
      ", =======> PUNCT =======> punctuation =======> , =======> punctuation mark, comma\n",
      "higher =======> ADJ =======> adjective =======> JJR =======> adjective, comparative\n",
      "than =======> ADP =======> adposition =======> IN =======> conjunction, subordinating or preposition\n",
      "the =======> DET =======> determiner =======> DT =======> determiner\n",
      "Dow =======> PROPN =======> proper noun =======> NNP =======> noun, proper singular\n",
      "Jones =======> PROPN =======> proper noun =======> NNP =======> noun, proper singular\n",
      "estimate =======> NOUN =======> noun =======> NN =======> noun, singular or mass\n",
      "for =======> ADP =======> adposition =======> IN =======> conjunction, subordinating or preposition\n",
      "an =======> DET =======> determiner =======> DT =======> determiner\n",
      "8.1 =======> NUM =======> numeral =======> CD =======> cardinal number\n",
      "% =======> NOUN =======> noun =======> NN =======> noun, singular or mass\n",
      "gain =======> NOUN =======> noun =======> NN =======> noun, singular or mass\n",
      ". =======> PUNCT =======> punctuation =======> . =======> punctuation mark, sentence closer\n",
      "That =======> PRON =======> pronoun =======> DT =======> determiner\n",
      "represented =======> VERB =======> verb =======> VBD =======> verb, past tense\n",
      "a =======> DET =======> determiner =======> DT =======> determiner\n",
      "slight =======> ADJ =======> adjective =======> JJ =======> adjective (English), other noun-modifier (Chinese)\n",
      "ease =======> NOUN =======> noun =======> NN =======> noun, singular or mass\n",
      "from =======> ADP =======> adposition =======> IN =======> conjunction, subordinating or preposition\n",
      "March =======> PROPN =======> proper noun =======> NNP =======> noun, proper singular\n",
      "’s =======> PART =======> particle =======> POS =======> possessive ending\n",
      "peak =======> NOUN =======> noun =======> NN =======> noun, singular or mass\n",
      "but =======> CCONJ =======> coordinating conjunction =======> CC =======> conjunction, coordinating\n",
      "was =======> AUX =======> auxiliary =======> VBD =======> verb, past tense\n",
      "still =======> ADV =======> adverb =======> RB =======> adverb\n",
      "close =======> ADJ =======> adjective =======> JJ =======> adjective (English), other noun-modifier (Chinese)\n",
      "to =======> ADP =======> adposition =======> IN =======> conjunction, subordinating or preposition\n",
      "the =======> DET =======> determiner =======> DT =======> determiner\n",
      "highest =======> ADJ =======> adjective =======> JJS =======> adjective, superlative\n",
      "level =======> NOUN =======> noun =======> NN =======> noun, singular or mass\n",
      "since =======> SCONJ =======> subordinating conjunction =======> IN =======> conjunction, subordinating or preposition\n",
      "the =======> DET =======> determiner =======> DT =======> determiner\n",
      "summer =======> NOUN =======> noun =======> NN =======> noun, singular or mass\n",
      "of =======> ADP =======> adposition =======> IN =======> conjunction, subordinating or preposition\n",
      "1982 =======> NUM =======> numeral =======> CD =======> cardinal number\n",
      ". =======> PUNCT =======> punctuation =======> . =======> punctuation mark, sentence closer\n",
      "\n",
      " =======> SPACE =======> space =======> _SP =======> whitespace\n",
      "Removing =======> VERB =======> verb =======> VBG =======> verb, gerund or present participle\n",
      "volatile =======> ADJ =======> adjective =======> JJ =======> adjective (English), other noun-modifier (Chinese)\n",
      "food =======> NOUN =======> noun =======> NN =======> noun, singular or mass\n",
      "and =======> CCONJ =======> coordinating conjunction =======> CC =======> conjunction, coordinating\n",
      "energy =======> NOUN =======> noun =======> NN =======> noun, singular or mass\n",
      "prices =======> NOUN =======> noun =======> NNS =======> noun, plural\n",
      ", =======> PUNCT =======> punctuation =======> , =======> punctuation mark, comma\n",
      "so =======> ADV =======> adverb =======> RB =======> adverb\n",
      "- =======> PUNCT =======> punctuation =======> HYPH =======> punctuation mark, hyphen\n",
      "called =======> VERB =======> verb =======> VBN =======> verb, past participle\n",
      "core =======> NOUN =======> noun =======> NN =======> noun, singular or mass\n",
      "CPI =======> PROPN =======> proper noun =======> NNP =======> noun, proper singular\n",
      "still =======> ADV =======> adverb =======> RB =======> adverb\n",
      "rose =======> VERB =======> verb =======> VBD =======> verb, past tense\n",
      "6.2 =======> NUM =======> numeral =======> CD =======> cardinal number\n",
      "% =======> NOUN =======> noun =======> NN =======> noun, singular or mass\n",
      ", =======> PUNCT =======> punctuation =======> , =======> punctuation mark, comma\n",
      "against =======> ADP =======> adposition =======> IN =======> conjunction, subordinating or preposition\n",
      "expectations =======> NOUN =======> noun =======> NNS =======> noun, plural\n",
      "for =======> ADP =======> adposition =======> IN =======> conjunction, subordinating or preposition\n",
      "a =======> DET =======> determiner =======> DT =======> determiner\n",
      "6 =======> NUM =======> numeral =======> CD =======> cardinal number\n",
      "% =======> NOUN =======> noun =======> NN =======> noun, singular or mass\n",
      "gain =======> NOUN =======> noun =======> NN =======> noun, singular or mass\n",
      ", =======> PUNCT =======> punctuation =======> , =======> punctuation mark, comma\n",
      "clouding =======> VERB =======> verb =======> VBG =======> verb, gerund or present participle\n",
      "hopes =======> NOUN =======> noun =======> NNS =======> noun, plural\n",
      "that =======> SCONJ =======> subordinating conjunction =======> IN =======> conjunction, subordinating or preposition\n",
      "inflation =======> NOUN =======> noun =======> NN =======> noun, singular or mass\n",
      "had =======> AUX =======> auxiliary =======> VBD =======> verb, past tense\n",
      "peaked =======> VERB =======> verb =======> VBN =======> verb, past participle\n",
      "in =======> ADP =======> adposition =======> IN =======> conjunction, subordinating or preposition\n",
      "March =======> PROPN =======> proper noun =======> NNP =======> noun, proper singular\n",
      ". =======> PUNCT =======> punctuation =======> . =======> punctuation mark, sentence closer\n",
      "\n",
      " =======> SPACE =======> space =======> _SP =======> whitespace\n",
      "The =======> DET =======> determiner =======> DT =======> determiner\n",
      "month =======> NOUN =======> noun =======> NN =======> noun, singular or mass\n",
      "- =======> PUNCT =======> punctuation =======> HYPH =======> punctuation mark, hyphen\n",
      "over =======> ADP =======> adposition =======> IN =======> conjunction, subordinating or preposition\n",
      "- =======> PUNCT =======> punctuation =======> HYPH =======> punctuation mark, hyphen\n",
      "month =======> NOUN =======> noun =======> NN =======> noun, singular or mass\n",
      "gains =======> NOUN =======> noun =======> NNS =======> noun, plural\n",
      "also =======> ADV =======> adverb =======> RB =======> adverb\n",
      "were =======> AUX =======> auxiliary =======> VBD =======> verb, past tense\n",
      "higher =======> ADJ =======> adjective =======> JJR =======> adjective, comparative\n",
      "than =======> ADP =======> adposition =======> IN =======> conjunction, subordinating or preposition\n",
      "expectations =======> NOUN =======> noun =======> NNS =======> noun, plural\n",
      "— =======> PUNCT =======> punctuation =======> : =======> punctuation mark, colon or ellipsis\n",
      "0.3 =======> NUM =======> numeral =======> CD =======> cardinal number\n",
      "% =======> NOUN =======> noun =======> NN =======> noun, singular or mass\n",
      "on =======> ADP =======> adposition =======> IN =======> conjunction, subordinating or preposition\n",
      "headline =======> NOUN =======> noun =======> NN =======> noun, singular or mass\n",
      "CPI =======> PROPN =======> proper noun =======> NNP =======> noun, proper singular\n",
      "versus =======> ADP =======> adposition =======> IN =======> conjunction, subordinating or preposition\n",
      "the =======> DET =======> determiner =======> DT =======> determiner\n",
      "0.2 =======> NUM =======> numeral =======> CD =======> cardinal number\n",
      "% =======> NOUN =======> noun =======> NN =======> noun, singular or mass\n",
      "estimate =======> NOUN =======> noun =======> NN =======> noun, singular or mass\n",
      "and =======> CCONJ =======> coordinating conjunction =======> CC =======> conjunction, coordinating\n",
      "a =======> DET =======> determiner =======> DT =======> determiner\n",
      "0.6 =======> NUM =======> numeral =======> CD =======> cardinal number\n",
      "% =======> NOUN =======> noun =======> NN =======> noun, singular or mass\n",
      "increase =======> NOUN =======> noun =======> NN =======> noun, singular or mass\n",
      "for =======> ADP =======> adposition =======> IN =======> conjunction, subordinating or preposition\n",
      "core =======> NOUN =======> noun =======> NN =======> noun, singular or mass\n",
      ", =======> PUNCT =======> punctuation =======> , =======> punctuation mark, comma\n",
      "against =======> ADP =======> adposition =======> IN =======> conjunction, subordinating or preposition\n",
      "the =======> DET =======> determiner =======> DT =======> determiner\n",
      "outlook =======> NOUN =======> noun =======> NN =======> noun, singular or mass\n",
      "for =======> ADP =======> adposition =======> IN =======> conjunction, subordinating or preposition\n",
      "a =======> DET =======> determiner =======> DT =======> determiner\n",
      "0.4 =======> NUM =======> numeral =======> CD =======> cardinal number\n",
      "% =======> NOUN =======> noun =======> NN =======> noun, singular or mass\n",
      "gain =======> NOUN =======> noun =======> NN =======> noun, singular or mass\n",
      ". =======> PUNCT =======> punctuation =======> . =======> punctuation mark, sentence closer\n",
      "\n",
      " =======> SPACE =======> space =======> _SP =======> whitespace\n",
      "The =======> DET =======> determiner =======> DT =======> determiner\n",
      "price =======> NOUN =======> noun =======> NN =======> noun, singular or mass\n",
      "gains =======> NOUN =======> noun =======> NNS =======> noun, plural\n",
      "also =======> ADV =======> adverb =======> RB =======> adverb\n",
      "meant =======> VERB =======> verb =======> VBD =======> verb, past tense\n",
      "that =======> SCONJ =======> subordinating conjunction =======> IN =======> conjunction, subordinating or preposition\n",
      "workers =======> NOUN =======> noun =======> NNS =======> noun, plural\n",
      "continued =======> VERB =======> verb =======> VBD =======> verb, past tense\n",
      "to =======> PART =======> particle =======> TO =======> infinitival \"to\"\n",
      "lose =======> VERB =======> verb =======> VB =======> verb, base form\n",
      "ground =======> NOUN =======> noun =======> NN =======> noun, singular or mass\n",
      ". =======> PUNCT =======> punctuation =======> . =======> punctuation mark, sentence closer\n",
      "Real =======> ADJ =======> adjective =======> JJ =======> adjective (English), other noun-modifier (Chinese)\n",
      "wages =======> NOUN =======> noun =======> NNS =======> noun, plural\n",
      "adjusted =======> VERB =======> verb =======> VBN =======> verb, past participle\n",
      "for =======> ADP =======> adposition =======> IN =======> conjunction, subordinating or preposition\n",
      "inflation =======> NOUN =======> noun =======> NN =======> noun, singular or mass\n",
      "decreased =======> VERB =======> verb =======> VBD =======> verb, past tense\n",
      "0.1 =======> NUM =======> numeral =======> CD =======> cardinal number\n",
      "% =======> NOUN =======> noun =======> NN =======> noun, singular or mass\n"
     ]
    },
    {
     "name": "stdout",
     "output_type": "stream",
     "text": [
      "on =======> ADP =======> adposition =======> IN =======> conjunction, subordinating or preposition\n",
      "the =======> DET =======> determiner =======> DT =======> determiner\n",
      "month =======> NOUN =======> noun =======> NN =======> noun, singular or mass\n",
      "despite =======> SCONJ =======> subordinating conjunction =======> IN =======> conjunction, subordinating or preposition\n",
      "a =======> DET =======> determiner =======> DT =======> determiner\n",
      "nominal =======> ADJ =======> adjective =======> JJ =======> adjective (English), other noun-modifier (Chinese)\n",
      "increase =======> NOUN =======> noun =======> NN =======> noun, singular or mass\n",
      "of =======> ADP =======> adposition =======> IN =======> conjunction, subordinating or preposition\n",
      "0.3 =======> NUM =======> numeral =======> CD =======> cardinal number\n",
      "% =======> NOUN =======> noun =======> NN =======> noun, singular or mass\n",
      "in =======> ADP =======> adposition =======> IN =======> conjunction, subordinating or preposition\n",
      "average =======> ADJ =======> adjective =======> JJ =======> adjective (English), other noun-modifier (Chinese)\n",
      "hourly =======> ADJ =======> adjective =======> JJ =======> adjective (English), other noun-modifier (Chinese)\n",
      "earnings =======> NOUN =======> noun =======> NNS =======> noun, plural\n",
      ". =======> PUNCT =======> punctuation =======> . =======> punctuation mark, sentence closer\n",
      "Over =======> ADP =======> adposition =======> IN =======> conjunction, subordinating or preposition\n",
      "the =======> DET =======> determiner =======> DT =======> determiner\n",
      "past =======> ADJ =======> adjective =======> JJ =======> adjective (English), other noun-modifier (Chinese)\n",
      "year =======> NOUN =======> noun =======> NN =======> noun, singular or mass\n",
      ", =======> PUNCT =======> punctuation =======> , =======> punctuation mark, comma\n",
      "real =======> ADJ =======> adjective =======> JJ =======> adjective (English), other noun-modifier (Chinese)\n",
      "earnings =======> NOUN =======> noun =======> NNS =======> noun, plural\n",
      "have =======> AUX =======> auxiliary =======> VBP =======> verb, non-3rd person singular present\n",
      "dropped =======> VERB =======> verb =======> VBN =======> verb, past participle\n",
      "2.6 =======> NUM =======> numeral =======> CD =======> cardinal number\n",
      "% =======> NOUN =======> noun =======> NN =======> noun, singular or mass\n",
      "even =======> ADV =======> adverb =======> RB =======> adverb\n",
      "though =======> SCONJ =======> subordinating conjunction =======> IN =======> conjunction, subordinating or preposition\n",
      "average =======> ADJ =======> adjective =======> JJ =======> adjective (English), other noun-modifier (Chinese)\n",
      "hourly =======> ADJ =======> adjective =======> JJ =======> adjective (English), other noun-modifier (Chinese)\n",
      "earnings =======> NOUN =======> noun =======> NNS =======> noun, plural\n",
      "are =======> AUX =======> auxiliary =======> VBP =======> verb, non-3rd person singular present\n",
      "up =======> ADV =======> adverb =======> RB =======> adverb\n",
      "5.5 =======> NUM =======> numeral =======> CD =======> cardinal number\n",
      "% =======> NOUN =======> noun =======> NN =======> noun, singular or mass\n",
      ". =======> PUNCT =======> punctuation =======> . =======> punctuation mark, sentence closer\n",
      "\n",
      " =======> SPACE =======> space =======> _SP =======> whitespace\n",
      "Inflation =======> NOUN =======> noun =======> NN =======> noun, singular or mass\n",
      "has =======> AUX =======> auxiliary =======> VBZ =======> verb, 3rd person singular present\n",
      "been =======> AUX =======> auxiliary =======> VBN =======> verb, past participle\n",
      "the =======> DET =======> determiner =======> DT =======> determiner\n",
      "single =======> ADJ =======> adjective =======> JJ =======> adjective (English), other noun-modifier (Chinese)\n",
      "biggest =======> ADJ =======> adjective =======> JJS =======> adjective, superlative\n",
      "threat =======> NOUN =======> noun =======> NN =======> noun, singular or mass\n",
      "to =======> ADP =======> adposition =======> IN =======> conjunction, subordinating or preposition\n",
      "a =======> DET =======> determiner =======> DT =======> determiner\n",
      "recovery =======> NOUN =======> noun =======> NN =======> noun, singular or mass\n",
      "that =======> PRON =======> pronoun =======> WDT =======> wh-determiner\n",
      "began =======> VERB =======> verb =======> VBD =======> verb, past tense\n",
      "early =======> ADV =======> adverb =======> RB =======> adverb\n",
      "in =======> ADP =======> adposition =======> IN =======> conjunction, subordinating or preposition\n",
      "the =======> DET =======> determiner =======> DT =======> determiner\n",
      "Covid =======> PROPN =======> proper noun =======> NNP =======> noun, proper singular\n",
      "pandemic =======> NOUN =======> noun =======> NN =======> noun, singular or mass\n",
      "and =======> CCONJ =======> coordinating conjunction =======> CC =======> conjunction, coordinating\n",
      "saw =======> VERB =======> verb =======> VBD =======> verb, past tense\n",
      "the =======> DET =======> determiner =======> DT =======> determiner\n",
      "economy =======> NOUN =======> noun =======> NN =======> noun, singular or mass\n",
      "in =======> ADP =======> adposition =======> IN =======> conjunction, subordinating or preposition\n",
      "2021 =======> NUM =======> numeral =======> CD =======> cardinal number\n",
      "stage =======> NOUN =======> noun =======> NN =======> noun, singular or mass\n",
      "its =======> PRON =======> pronoun =======> PRP$ =======> pronoun, possessive\n",
      "biggest =======> ADJ =======> adjective =======> JJS =======> adjective, superlative\n",
      "single =======> ADJ =======> adjective =======> JJ =======> adjective (English), other noun-modifier (Chinese)\n",
      "- =======> PUNCT =======> punctuation =======> HYPH =======> punctuation mark, hyphen\n",
      "year =======> NOUN =======> noun =======> NN =======> noun, singular or mass\n",
      "growth =======> NOUN =======> noun =======> NN =======> noun, singular or mass\n",
      "level =======> NOUN =======> noun =======> NN =======> noun, singular or mass\n",
      "since =======> SCONJ =======> subordinating conjunction =======> IN =======> conjunction, subordinating or preposition\n",
      "1984 =======> NUM =======> numeral =======> CD =======> cardinal number\n",
      ". =======> PUNCT =======> punctuation =======> . =======> punctuation mark, sentence closer\n",
      "Rising =======> VERB =======> verb =======> VBG =======> verb, gerund or present participle\n",
      "prices =======> NOUN =======> noun =======> NNS =======> noun, plural\n",
      "at =======> ADP =======> adposition =======> IN =======> conjunction, subordinating or preposition\n",
      "the =======> DET =======> determiner =======> DT =======> determiner\n",
      "pump =======> NOUN =======> noun =======> NN =======> noun, singular or mass\n",
      "and =======> CCONJ =======> coordinating conjunction =======> CC =======> conjunction, coordinating\n",
      "in =======> ADP =======> adposition =======> IN =======> conjunction, subordinating or preposition\n",
      "grocery =======> NOUN =======> noun =======> NN =======> noun, singular or mass\n",
      "stores =======> NOUN =======> noun =======> NNS =======> noun, plural\n",
      "have =======> AUX =======> auxiliary =======> VBP =======> verb, non-3rd person singular present\n",
      "been =======> AUX =======> auxiliary =======> VBN =======> verb, past participle\n",
      "one =======> NUM =======> numeral =======> CD =======> cardinal number\n",
      "problem =======> NOUN =======> noun =======> NN =======> noun, singular or mass\n",
      ", =======> PUNCT =======> punctuation =======> , =======> punctuation mark, comma\n",
      "but =======> CCONJ =======> coordinating conjunction =======> CC =======> conjunction, coordinating\n",
      "inflation =======> NOUN =======> noun =======> NN =======> noun, singular or mass\n",
      "has =======> AUX =======> auxiliary =======> VBZ =======> verb, 3rd person singular present\n",
      "spread =======> VERB =======> verb =======> VBN =======> verb, past participle\n",
      "beyond =======> ADP =======> adposition =======> IN =======> conjunction, subordinating or preposition\n",
      "those =======> DET =======> determiner =======> DT =======> determiner\n",
      "two =======> NUM =======> numeral =======> CD =======> cardinal number\n",
      "areas =======> NOUN =======> noun =======> NNS =======> noun, plural\n",
      "into =======> ADP =======> adposition =======> IN =======> conjunction, subordinating or preposition\n",
      "housing =======> NOUN =======> noun =======> NN =======> noun, singular or mass\n",
      ", =======> PUNCT =======> punctuation =======> , =======> punctuation mark, comma\n",
      "auto =======> NOUN =======> noun =======> NN =======> noun, singular or mass\n",
      "sales =======> NOUN =======> noun =======> NNS =======> noun, plural\n",
      "and =======> CCONJ =======> coordinating conjunction =======> CC =======> conjunction, coordinating\n",
      "a =======> DET =======> determiner =======> DT =======> determiner\n",
      "host =======> NOUN =======> noun =======> NN =======> noun, singular or mass\n",
      "of =======> ADP =======> adposition =======> IN =======> conjunction, subordinating or preposition\n",
      "other =======> ADJ =======> adjective =======> JJ =======> adjective (English), other noun-modifier (Chinese)\n",
      "areas =======> NOUN =======> noun =======> NNS =======> noun, plural\n",
      ". =======> PUNCT =======> punctuation =======> . =======> punctuation mark, sentence closer\n",
      "\n",
      " =======> SPACE =======> space =======> _SP =======> whitespace\n",
      "Federal =======> PROPN =======> proper noun =======> NNP =======> noun, proper singular\n",
      "Reserve =======> PROPN =======> proper noun =======> NNP =======> noun, proper singular\n",
      "officials =======> NOUN =======> noun =======> NNS =======> noun, plural\n",
      "have =======> AUX =======> auxiliary =======> VBP =======> verb, non-3rd person singular present\n",
      "responded =======> VERB =======> verb =======> VBN =======> verb, past participle\n",
      "to =======> ADP =======> adposition =======> IN =======> conjunction, subordinating or preposition\n",
      "the =======> DET =======> determiner =======> DT =======> determiner\n",
      "problem =======> NOUN =======> noun =======> NN =======> noun, singular or mass\n",
      "with =======> ADP =======> adposition =======> IN =======> conjunction, subordinating or preposition\n",
      "two =======> NUM =======> numeral =======> CD =======> cardinal number\n",
      "interest =======> NOUN =======> noun =======> NN =======> noun, singular or mass\n",
      "rate =======> NOUN =======> noun =======> NN =======> noun, singular or mass\n",
      "hikes =======> NOUN =======> noun =======> NNS =======> noun, plural\n",
      "so =======> ADV =======> adverb =======> RB =======> adverb\n",
      "far =======> ADV =======> adverb =======> RB =======> adverb\n",
      "this =======> DET =======> determiner =======> DT =======> determiner\n",
      "year =======> NOUN =======> noun =======> NN =======> noun, singular or mass\n",
      "and =======> CCONJ =======> coordinating conjunction =======> CC =======> conjunction, coordinating\n",
      "pledges =======> NOUN =======> noun =======> NNS =======> noun, plural\n",
      "of =======> ADP =======> adposition =======> IN =======> conjunction, subordinating or preposition\n",
      "more =======> ADJ =======> adjective =======> JJR =======> adjective, comparative\n",
      "until =======> SCONJ =======> subordinating conjunction =======> IN =======> conjunction, subordinating or preposition\n",
      "inflation =======> NOUN =======> noun =======> NN =======> noun, singular or mass\n",
      "comes =======> VERB =======> verb =======> VBZ =======> verb, 3rd person singular present\n",
      "down =======> ADP =======> adposition =======> RP =======> adverb, particle\n",
      "to =======> ADP =======> adposition =======> IN =======> conjunction, subordinating or preposition\n",
      "the =======> DET =======> determiner =======> DT =======> determiner\n",
      "central =======> ADJ =======> adjective =======> JJ =======> adjective (English), other noun-modifier (Chinese)\n",
      "bank =======> NOUN =======> noun =======> NN =======> noun, singular or mass\n",
      "’s =======> PART =======> particle =======> POS =======> possessive ending\n",
      "2 =======> NUM =======> numeral =======> CD =======> cardinal number\n",
      "% =======> NOUN =======> noun =======> NN =======> noun, singular or mass\n",
      "goal =======> NOUN =======> noun =======> NN =======> noun, singular or mass\n",
      ". =======> PUNCT =======> punctuation =======> . =======> punctuation mark, sentence closer\n",
      "However =======> ADV =======> adverb =======> RB =======> adverb\n",
      ", =======> PUNCT =======> punctuation =======> , =======> punctuation mark, comma\n",
      "Wednesday =======> PROPN =======> proper noun =======> NNP =======> noun, proper singular\n",
      "’s =======> PART =======> particle =======> POS =======> possessive ending\n",
      "data =======> NOUN =======> noun =======> NNS =======> noun, plural\n",
      "shows =======> VERB =======> verb =======> VBZ =======> verb, 3rd person singular present\n",
      "that =======> SCONJ =======> subordinating conjunction =======> IN =======> conjunction, subordinating or preposition\n",
      "the =======> DET =======> determiner =======> DT =======> determiner\n",
      "Fed =======> PROPN =======> proper noun =======> NNP =======> noun, proper singular\n",
      "has =======> VERB =======> verb =======> VBZ =======> verb, 3rd person singular present\n",
      "a =======> DET =======> determiner =======> DT =======> determiner\n",
      "big =======> ADJ =======> adjective =======> JJ =======> adjective (English), other noun-modifier (Chinese)\n",
      "job =======> NOUN =======> noun =======> NN =======> noun, singular or mass\n",
      "ahead =======> ADV =======> adverb =======> RB =======> adverb\n",
      ". =======> PUNCT =======> punctuation =======> . =======> punctuation mark, sentence closer\n",
      "\n",
      " =======> SPACE =======> space =======> _SP =======> whitespace\n"
     ]
    }
   ],
   "source": [
    "import spacy\n",
    "\n",
    "nlp = spacy.load(\"en_core_web_sm\")\n",
    "doc = nlp(\"\"\"Inflation rose again in April, continuing a climb that has pushed consumers to the brink and is threatening the economic expansion, the Bureau of Labor Statistics reported Wednesday.\n",
    "The consumer price index, a broad-based measure of prices for goods and services, increased 8.3% from a year ago, higher than the Dow Jones estimate for an 8.1% gain. That represented a slight ease from March’s peak but was still close to the highest level since the summer of 1982.\n",
    "Removing volatile food and energy prices, so-called core CPI still rose 6.2%, against expectations for a 6% gain, clouding hopes that inflation had peaked in March.\n",
    "The month-over-month gains also were higher than expectations — 0.3% on headline CPI versus the 0.2% estimate and a 0.6% increase for core, against the outlook for a 0.4% gain.\n",
    "The price gains also meant that workers continued to lose ground. Real wages adjusted for inflation decreased 0.1% on the month despite a nominal increase of 0.3% in average hourly earnings. Over the past year, real earnings have dropped 2.6% even though average hourly earnings are up 5.5%.\n",
    "Inflation has been the single biggest threat to a recovery that began early in the Covid pandemic and saw the economy in 2021 stage its biggest single-year growth level since 1984. Rising prices at the pump and in grocery stores have been one problem, but inflation has spread beyond those two areas into housing, auto sales and a host of other areas.\n",
    "Federal Reserve officials have responded to the problem with two interest rate hikes so far this year and pledges of more until inflation comes down to the central bank’s 2% goal. However, Wednesday’s data shows that the Fed has a big job ahead.\n",
    "\"\"\")\n",
    "\n",
    "for token in doc:\n",
    "    print(token, \"=======>\", token.pos_, \"=======>\", spacy.explain(token.pos_),\n",
    "          \"=======>\",token.tag_,\"=======>\",spacy.explain(token.tag_))"
   ]
  },
  {
   "cell_type": "markdown",
   "id": "0c039d51",
   "metadata": {},
   "source": [
    "# REMOVE Punctuation and special characters"
   ]
  },
  {
   "cell_type": "code",
   "execution_count": 110,
   "id": "a7ecc697",
   "metadata": {},
   "outputs": [
    {
     "name": "stdout",
     "output_type": "stream",
     "text": [
      "Inflation =======> NOUN =======> noun =======> NN =======> noun, singular or mass\n",
      "rose =======> VERB =======> verb =======> VBD =======> verb, past tense\n",
      "again =======> ADV =======> adverb =======> RB =======> adverb\n",
      "in =======> ADP =======> adposition =======> IN =======> conjunction, subordinating or preposition\n",
      "April =======> PROPN =======> proper noun =======> NNP =======> noun, proper singular\n",
      "continuing =======> VERB =======> verb =======> VBG =======> verb, gerund or present participle\n",
      "a =======> DET =======> determiner =======> DT =======> determiner\n",
      "climb =======> NOUN =======> noun =======> NN =======> noun, singular or mass\n",
      "that =======> PRON =======> pronoun =======> WDT =======> wh-determiner\n",
      "has =======> AUX =======> auxiliary =======> VBZ =======> verb, 3rd person singular present\n",
      "pushed =======> VERB =======> verb =======> VBN =======> verb, past participle\n",
      "consumers =======> NOUN =======> noun =======> NNS =======> noun, plural\n",
      "to =======> ADP =======> adposition =======> IN =======> conjunction, subordinating or preposition\n",
      "the =======> DET =======> determiner =======> DT =======> determiner\n",
      "brink =======> NOUN =======> noun =======> NN =======> noun, singular or mass\n",
      "and =======> CCONJ =======> coordinating conjunction =======> CC =======> conjunction, coordinating\n",
      "is =======> AUX =======> auxiliary =======> VBZ =======> verb, 3rd person singular present\n",
      "threatening =======> VERB =======> verb =======> VBG =======> verb, gerund or present participle\n",
      "the =======> DET =======> determiner =======> DT =======> determiner\n",
      "economic =======> ADJ =======> adjective =======> JJ =======> adjective (English), other noun-modifier (Chinese)\n",
      "expansion =======> NOUN =======> noun =======> NN =======> noun, singular or mass\n",
      "the =======> DET =======> determiner =======> DT =======> determiner\n",
      "Bureau =======> PROPN =======> proper noun =======> NNP =======> noun, proper singular\n",
      "of =======> ADP =======> adposition =======> IN =======> conjunction, subordinating or preposition\n",
      "Labor =======> PROPN =======> proper noun =======> NNP =======> noun, proper singular\n",
      "Statistics =======> PROPN =======> proper noun =======> NNPS =======> noun, proper plural\n",
      "reported =======> VERB =======> verb =======> VBD =======> verb, past tense\n",
      "Wednesday =======> PROPN =======> proper noun =======> NNP =======> noun, proper singular\n",
      "The =======> DET =======> determiner =======> DT =======> determiner\n",
      "consumer =======> NOUN =======> noun =======> NN =======> noun, singular or mass\n",
      "price =======> NOUN =======> noun =======> NN =======> noun, singular or mass\n",
      "index =======> NOUN =======> noun =======> NN =======> noun, singular or mass\n",
      "a =======> DET =======> determiner =======> DT =======> determiner\n",
      "broad =======> ADV =======> adverb =======> RB =======> adverb\n",
      "based =======> VERB =======> verb =======> VBN =======> verb, past participle\n",
      "measure =======> NOUN =======> noun =======> NN =======> noun, singular or mass\n",
      "of =======> ADP =======> adposition =======> IN =======> conjunction, subordinating or preposition\n",
      "prices =======> NOUN =======> noun =======> NNS =======> noun, plural\n",
      "for =======> ADP =======> adposition =======> IN =======> conjunction, subordinating or preposition\n",
      "goods =======> NOUN =======> noun =======> NNS =======> noun, plural\n",
      "and =======> CCONJ =======> coordinating conjunction =======> CC =======> conjunction, coordinating\n",
      "services =======> NOUN =======> noun =======> NNS =======> noun, plural\n",
      "increased =======> VERB =======> verb =======> VBD =======> verb, past tense\n",
      "8.3 =======> NUM =======> numeral =======> CD =======> cardinal number\n",
      "% =======> NOUN =======> noun =======> NN =======> noun, singular or mass\n",
      "from =======> ADP =======> adposition =======> IN =======> conjunction, subordinating or preposition\n",
      "a =======> DET =======> determiner =======> DT =======> determiner\n",
      "year =======> NOUN =======> noun =======> NN =======> noun, singular or mass\n",
      "ago =======> ADV =======> adverb =======> RB =======> adverb\n",
      "higher =======> ADJ =======> adjective =======> JJR =======> adjective, comparative\n",
      "than =======> ADP =======> adposition =======> IN =======> conjunction, subordinating or preposition\n",
      "the =======> DET =======> determiner =======> DT =======> determiner\n",
      "Dow =======> PROPN =======> proper noun =======> NNP =======> noun, proper singular\n",
      "Jones =======> PROPN =======> proper noun =======> NNP =======> noun, proper singular\n",
      "estimate =======> NOUN =======> noun =======> NN =======> noun, singular or mass\n",
      "for =======> ADP =======> adposition =======> IN =======> conjunction, subordinating or preposition\n",
      "an =======> DET =======> determiner =======> DT =======> determiner\n",
      "8.1 =======> NUM =======> numeral =======> CD =======> cardinal number\n",
      "% =======> NOUN =======> noun =======> NN =======> noun, singular or mass\n",
      "gain =======> NOUN =======> noun =======> NN =======> noun, singular or mass\n",
      "That =======> PRON =======> pronoun =======> DT =======> determiner\n",
      "represented =======> VERB =======> verb =======> VBD =======> verb, past tense\n",
      "a =======> DET =======> determiner =======> DT =======> determiner\n",
      "slight =======> ADJ =======> adjective =======> JJ =======> adjective (English), other noun-modifier (Chinese)\n",
      "ease =======> NOUN =======> noun =======> NN =======> noun, singular or mass\n",
      "from =======> ADP =======> adposition =======> IN =======> conjunction, subordinating or preposition\n",
      "March =======> PROPN =======> proper noun =======> NNP =======> noun, proper singular\n",
      "’s =======> PART =======> particle =======> POS =======> possessive ending\n",
      "peak =======> NOUN =======> noun =======> NN =======> noun, singular or mass\n",
      "but =======> CCONJ =======> coordinating conjunction =======> CC =======> conjunction, coordinating\n",
      "was =======> AUX =======> auxiliary =======> VBD =======> verb, past tense\n",
      "still =======> ADV =======> adverb =======> RB =======> adverb\n",
      "close =======> ADJ =======> adjective =======> JJ =======> adjective (English), other noun-modifier (Chinese)\n",
      "to =======> ADP =======> adposition =======> IN =======> conjunction, subordinating or preposition\n",
      "the =======> DET =======> determiner =======> DT =======> determiner\n",
      "highest =======> ADJ =======> adjective =======> JJS =======> adjective, superlative\n",
      "level =======> NOUN =======> noun =======> NN =======> noun, singular or mass\n",
      "since =======> SCONJ =======> subordinating conjunction =======> IN =======> conjunction, subordinating or preposition\n",
      "the =======> DET =======> determiner =======> DT =======> determiner\n",
      "summer =======> NOUN =======> noun =======> NN =======> noun, singular or mass\n",
      "of =======> ADP =======> adposition =======> IN =======> conjunction, subordinating or preposition\n",
      "1982 =======> NUM =======> numeral =======> CD =======> cardinal number\n",
      "Removing =======> VERB =======> verb =======> VBG =======> verb, gerund or present participle\n",
      "volatile =======> ADJ =======> adjective =======> JJ =======> adjective (English), other noun-modifier (Chinese)\n",
      "food =======> NOUN =======> noun =======> NN =======> noun, singular or mass\n",
      "and =======> CCONJ =======> coordinating conjunction =======> CC =======> conjunction, coordinating\n",
      "energy =======> NOUN =======> noun =======> NN =======> noun, singular or mass\n",
      "prices =======> NOUN =======> noun =======> NNS =======> noun, plural\n",
      "so =======> ADV =======> adverb =======> RB =======> adverb\n",
      "called =======> VERB =======> verb =======> VBN =======> verb, past participle\n",
      "core =======> NOUN =======> noun =======> NN =======> noun, singular or mass\n",
      "CPI =======> PROPN =======> proper noun =======> NNP =======> noun, proper singular\n",
      "still =======> ADV =======> adverb =======> RB =======> adverb\n",
      "rose =======> VERB =======> verb =======> VBD =======> verb, past tense\n",
      "6.2 =======> NUM =======> numeral =======> CD =======> cardinal number\n",
      "% =======> NOUN =======> noun =======> NN =======> noun, singular or mass\n",
      "against =======> ADP =======> adposition =======> IN =======> conjunction, subordinating or preposition\n",
      "expectations =======> NOUN =======> noun =======> NNS =======> noun, plural\n",
      "for =======> ADP =======> adposition =======> IN =======> conjunction, subordinating or preposition\n",
      "a =======> DET =======> determiner =======> DT =======> determiner\n",
      "6 =======> NUM =======> numeral =======> CD =======> cardinal number\n",
      "% =======> NOUN =======> noun =======> NN =======> noun, singular or mass\n",
      "gain =======> NOUN =======> noun =======> NN =======> noun, singular or mass\n",
      "clouding =======> VERB =======> verb =======> VBG =======> verb, gerund or present participle\n",
      "hopes =======> NOUN =======> noun =======> NNS =======> noun, plural\n",
      "that =======> SCONJ =======> subordinating conjunction =======> IN =======> conjunction, subordinating or preposition\n",
      "inflation =======> NOUN =======> noun =======> NN =======> noun, singular or mass\n",
      "had =======> AUX =======> auxiliary =======> VBD =======> verb, past tense\n",
      "peaked =======> VERB =======> verb =======> VBN =======> verb, past participle\n",
      "in =======> ADP =======> adposition =======> IN =======> conjunction, subordinating or preposition\n",
      "March =======> PROPN =======> proper noun =======> NNP =======> noun, proper singular\n",
      "The =======> DET =======> determiner =======> DT =======> determiner\n",
      "month =======> NOUN =======> noun =======> NN =======> noun, singular or mass\n",
      "over =======> ADP =======> adposition =======> IN =======> conjunction, subordinating or preposition\n",
      "month =======> NOUN =======> noun =======> NN =======> noun, singular or mass\n",
      "gains =======> NOUN =======> noun =======> NNS =======> noun, plural\n",
      "also =======> ADV =======> adverb =======> RB =======> adverb\n",
      "were =======> AUX =======> auxiliary =======> VBD =======> verb, past tense\n",
      "higher =======> ADJ =======> adjective =======> JJR =======> adjective, comparative\n",
      "than =======> ADP =======> adposition =======> IN =======> conjunction, subordinating or preposition\n",
      "expectations =======> NOUN =======> noun =======> NNS =======> noun, plural\n",
      "0.3 =======> NUM =======> numeral =======> CD =======> cardinal number\n",
      "% =======> NOUN =======> noun =======> NN =======> noun, singular or mass\n",
      "on =======> ADP =======> adposition =======> IN =======> conjunction, subordinating or preposition\n",
      "headline =======> NOUN =======> noun =======> NN =======> noun, singular or mass\n",
      "CPI =======> PROPN =======> proper noun =======> NNP =======> noun, proper singular\n",
      "versus =======> ADP =======> adposition =======> IN =======> conjunction, subordinating or preposition\n",
      "the =======> DET =======> determiner =======> DT =======> determiner\n",
      "0.2 =======> NUM =======> numeral =======> CD =======> cardinal number\n",
      "% =======> NOUN =======> noun =======> NN =======> noun, singular or mass\n",
      "estimate =======> NOUN =======> noun =======> NN =======> noun, singular or mass\n",
      "and =======> CCONJ =======> coordinating conjunction =======> CC =======> conjunction, coordinating\n",
      "a =======> DET =======> determiner =======> DT =======> determiner\n",
      "0.6 =======> NUM =======> numeral =======> CD =======> cardinal number\n",
      "% =======> NOUN =======> noun =======> NN =======> noun, singular or mass\n",
      "increase =======> NOUN =======> noun =======> NN =======> noun, singular or mass\n",
      "for =======> ADP =======> adposition =======> IN =======> conjunction, subordinating or preposition\n",
      "core =======> NOUN =======> noun =======> NN =======> noun, singular or mass\n",
      "against =======> ADP =======> adposition =======> IN =======> conjunction, subordinating or preposition\n",
      "the =======> DET =======> determiner =======> DT =======> determiner\n",
      "outlook =======> NOUN =======> noun =======> NN =======> noun, singular or mass\n",
      "for =======> ADP =======> adposition =======> IN =======> conjunction, subordinating or preposition\n",
      "a =======> DET =======> determiner =======> DT =======> determiner\n",
      "0.4 =======> NUM =======> numeral =======> CD =======> cardinal number\n",
      "% =======> NOUN =======> noun =======> NN =======> noun, singular or mass\n",
      "gain =======> NOUN =======> noun =======> NN =======> noun, singular or mass\n",
      "The =======> DET =======> determiner =======> DT =======> determiner\n",
      "price =======> NOUN =======> noun =======> NN =======> noun, singular or mass\n",
      "gains =======> NOUN =======> noun =======> NNS =======> noun, plural\n",
      "also =======> ADV =======> adverb =======> RB =======> adverb\n",
      "meant =======> VERB =======> verb =======> VBD =======> verb, past tense\n",
      "that =======> SCONJ =======> subordinating conjunction =======> IN =======> conjunction, subordinating or preposition\n",
      "workers =======> NOUN =======> noun =======> NNS =======> noun, plural\n",
      "continued =======> VERB =======> verb =======> VBD =======> verb, past tense\n",
      "to =======> PART =======> particle =======> TO =======> infinitival \"to\"\n",
      "lose =======> VERB =======> verb =======> VB =======> verb, base form\n",
      "ground =======> NOUN =======> noun =======> NN =======> noun, singular or mass\n",
      "Real =======> ADJ =======> adjective =======> JJ =======> adjective (English), other noun-modifier (Chinese)\n",
      "wages =======> NOUN =======> noun =======> NNS =======> noun, plural\n",
      "adjusted =======> VERB =======> verb =======> VBN =======> verb, past participle\n",
      "for =======> ADP =======> adposition =======> IN =======> conjunction, subordinating or preposition\n",
      "inflation =======> NOUN =======> noun =======> NN =======> noun, singular or mass\n",
      "decreased =======> VERB =======> verb =======> VBD =======> verb, past tense\n",
      "0.1 =======> NUM =======> numeral =======> CD =======> cardinal number\n",
      "% =======> NOUN =======> noun =======> NN =======> noun, singular or mass\n",
      "on =======> ADP =======> adposition =======> IN =======> conjunction, subordinating or preposition\n",
      "the =======> DET =======> determiner =======> DT =======> determiner\n",
      "month =======> NOUN =======> noun =======> NN =======> noun, singular or mass\n",
      "despite =======> SCONJ =======> subordinating conjunction =======> IN =======> conjunction, subordinating or preposition\n",
      "a =======> DET =======> determiner =======> DT =======> determiner\n",
      "nominal =======> ADJ =======> adjective =======> JJ =======> adjective (English), other noun-modifier (Chinese)\n",
      "increase =======> NOUN =======> noun =======> NN =======> noun, singular or mass\n",
      "of =======> ADP =======> adposition =======> IN =======> conjunction, subordinating or preposition\n",
      "0.3 =======> NUM =======> numeral =======> CD =======> cardinal number\n",
      "% =======> NOUN =======> noun =======> NN =======> noun, singular or mass\n",
      "in =======> ADP =======> adposition =======> IN =======> conjunction, subordinating or preposition\n",
      "average =======> ADJ =======> adjective =======> JJ =======> adjective (English), other noun-modifier (Chinese)\n",
      "hourly =======> ADJ =======> adjective =======> JJ =======> adjective (English), other noun-modifier (Chinese)\n",
      "earnings =======> NOUN =======> noun =======> NNS =======> noun, plural\n",
      "Over =======> ADP =======> adposition =======> IN =======> conjunction, subordinating or preposition\n",
      "the =======> DET =======> determiner =======> DT =======> determiner\n",
      "past =======> ADJ =======> adjective =======> JJ =======> adjective (English), other noun-modifier (Chinese)\n",
      "year =======> NOUN =======> noun =======> NN =======> noun, singular or mass\n",
      "real =======> ADJ =======> adjective =======> JJ =======> adjective (English), other noun-modifier (Chinese)\n",
      "earnings =======> NOUN =======> noun =======> NNS =======> noun, plural\n",
      "have =======> AUX =======> auxiliary =======> VBP =======> verb, non-3rd person singular present\n",
      "dropped =======> VERB =======> verb =======> VBN =======> verb, past participle\n",
      "2.6 =======> NUM =======> numeral =======> CD =======> cardinal number\n",
      "% =======> NOUN =======> noun =======> NN =======> noun, singular or mass\n",
      "even =======> ADV =======> adverb =======> RB =======> adverb\n",
      "though =======> SCONJ =======> subordinating conjunction =======> IN =======> conjunction, subordinating or preposition\n",
      "average =======> ADJ =======> adjective =======> JJ =======> adjective (English), other noun-modifier (Chinese)\n",
      "hourly =======> ADJ =======> adjective =======> JJ =======> adjective (English), other noun-modifier (Chinese)\n",
      "earnings =======> NOUN =======> noun =======> NNS =======> noun, plural\n",
      "are =======> AUX =======> auxiliary =======> VBP =======> verb, non-3rd person singular present\n",
      "up =======> ADV =======> adverb =======> RB =======> adverb\n"
     ]
    },
    {
     "name": "stdout",
     "output_type": "stream",
     "text": [
      "5.5 =======> NUM =======> numeral =======> CD =======> cardinal number\n",
      "% =======> NOUN =======> noun =======> NN =======> noun, singular or mass\n",
      "Inflation =======> NOUN =======> noun =======> NN =======> noun, singular or mass\n",
      "has =======> AUX =======> auxiliary =======> VBZ =======> verb, 3rd person singular present\n",
      "been =======> AUX =======> auxiliary =======> VBN =======> verb, past participle\n",
      "the =======> DET =======> determiner =======> DT =======> determiner\n",
      "single =======> ADJ =======> adjective =======> JJ =======> adjective (English), other noun-modifier (Chinese)\n",
      "biggest =======> ADJ =======> adjective =======> JJS =======> adjective, superlative\n",
      "threat =======> NOUN =======> noun =======> NN =======> noun, singular or mass\n",
      "to =======> ADP =======> adposition =======> IN =======> conjunction, subordinating or preposition\n",
      "a =======> DET =======> determiner =======> DT =======> determiner\n",
      "recovery =======> NOUN =======> noun =======> NN =======> noun, singular or mass\n",
      "that =======> PRON =======> pronoun =======> WDT =======> wh-determiner\n",
      "began =======> VERB =======> verb =======> VBD =======> verb, past tense\n",
      "early =======> ADV =======> adverb =======> RB =======> adverb\n",
      "in =======> ADP =======> adposition =======> IN =======> conjunction, subordinating or preposition\n",
      "the =======> DET =======> determiner =======> DT =======> determiner\n",
      "Covid =======> PROPN =======> proper noun =======> NNP =======> noun, proper singular\n",
      "pandemic =======> NOUN =======> noun =======> NN =======> noun, singular or mass\n",
      "and =======> CCONJ =======> coordinating conjunction =======> CC =======> conjunction, coordinating\n",
      "saw =======> VERB =======> verb =======> VBD =======> verb, past tense\n",
      "the =======> DET =======> determiner =======> DT =======> determiner\n",
      "economy =======> NOUN =======> noun =======> NN =======> noun, singular or mass\n",
      "in =======> ADP =======> adposition =======> IN =======> conjunction, subordinating or preposition\n",
      "2021 =======> NUM =======> numeral =======> CD =======> cardinal number\n",
      "stage =======> NOUN =======> noun =======> NN =======> noun, singular or mass\n",
      "its =======> PRON =======> pronoun =======> PRP$ =======> pronoun, possessive\n",
      "biggest =======> ADJ =======> adjective =======> JJS =======> adjective, superlative\n",
      "single =======> ADJ =======> adjective =======> JJ =======> adjective (English), other noun-modifier (Chinese)\n",
      "year =======> NOUN =======> noun =======> NN =======> noun, singular or mass\n",
      "growth =======> NOUN =======> noun =======> NN =======> noun, singular or mass\n",
      "level =======> NOUN =======> noun =======> NN =======> noun, singular or mass\n",
      "since =======> SCONJ =======> subordinating conjunction =======> IN =======> conjunction, subordinating or preposition\n",
      "1984 =======> NUM =======> numeral =======> CD =======> cardinal number\n",
      "Rising =======> VERB =======> verb =======> VBG =======> verb, gerund or present participle\n",
      "prices =======> NOUN =======> noun =======> NNS =======> noun, plural\n",
      "at =======> ADP =======> adposition =======> IN =======> conjunction, subordinating or preposition\n",
      "the =======> DET =======> determiner =======> DT =======> determiner\n",
      "pump =======> NOUN =======> noun =======> NN =======> noun, singular or mass\n",
      "and =======> CCONJ =======> coordinating conjunction =======> CC =======> conjunction, coordinating\n",
      "in =======> ADP =======> adposition =======> IN =======> conjunction, subordinating or preposition\n",
      "grocery =======> NOUN =======> noun =======> NN =======> noun, singular or mass\n",
      "stores =======> NOUN =======> noun =======> NNS =======> noun, plural\n",
      "have =======> AUX =======> auxiliary =======> VBP =======> verb, non-3rd person singular present\n",
      "been =======> AUX =======> auxiliary =======> VBN =======> verb, past participle\n",
      "one =======> NUM =======> numeral =======> CD =======> cardinal number\n",
      "problem =======> NOUN =======> noun =======> NN =======> noun, singular or mass\n",
      "but =======> CCONJ =======> coordinating conjunction =======> CC =======> conjunction, coordinating\n",
      "inflation =======> NOUN =======> noun =======> NN =======> noun, singular or mass\n",
      "has =======> AUX =======> auxiliary =======> VBZ =======> verb, 3rd person singular present\n",
      "spread =======> VERB =======> verb =======> VBN =======> verb, past participle\n",
      "beyond =======> ADP =======> adposition =======> IN =======> conjunction, subordinating or preposition\n",
      "those =======> DET =======> determiner =======> DT =======> determiner\n",
      "two =======> NUM =======> numeral =======> CD =======> cardinal number\n",
      "areas =======> NOUN =======> noun =======> NNS =======> noun, plural\n",
      "into =======> ADP =======> adposition =======> IN =======> conjunction, subordinating or preposition\n",
      "housing =======> NOUN =======> noun =======> NN =======> noun, singular or mass\n",
      "auto =======> NOUN =======> noun =======> NN =======> noun, singular or mass\n",
      "sales =======> NOUN =======> noun =======> NNS =======> noun, plural\n",
      "and =======> CCONJ =======> coordinating conjunction =======> CC =======> conjunction, coordinating\n",
      "a =======> DET =======> determiner =======> DT =======> determiner\n",
      "host =======> NOUN =======> noun =======> NN =======> noun, singular or mass\n",
      "of =======> ADP =======> adposition =======> IN =======> conjunction, subordinating or preposition\n",
      "other =======> ADJ =======> adjective =======> JJ =======> adjective (English), other noun-modifier (Chinese)\n",
      "areas =======> NOUN =======> noun =======> NNS =======> noun, plural\n",
      "Federal =======> PROPN =======> proper noun =======> NNP =======> noun, proper singular\n",
      "Reserve =======> PROPN =======> proper noun =======> NNP =======> noun, proper singular\n",
      "officials =======> NOUN =======> noun =======> NNS =======> noun, plural\n",
      "have =======> AUX =======> auxiliary =======> VBP =======> verb, non-3rd person singular present\n",
      "responded =======> VERB =======> verb =======> VBN =======> verb, past participle\n",
      "to =======> ADP =======> adposition =======> IN =======> conjunction, subordinating or preposition\n",
      "the =======> DET =======> determiner =======> DT =======> determiner\n",
      "problem =======> NOUN =======> noun =======> NN =======> noun, singular or mass\n",
      "with =======> ADP =======> adposition =======> IN =======> conjunction, subordinating or preposition\n",
      "two =======> NUM =======> numeral =======> CD =======> cardinal number\n",
      "interest =======> NOUN =======> noun =======> NN =======> noun, singular or mass\n",
      "rate =======> NOUN =======> noun =======> NN =======> noun, singular or mass\n",
      "hikes =======> NOUN =======> noun =======> NNS =======> noun, plural\n",
      "so =======> ADV =======> adverb =======> RB =======> adverb\n",
      "far =======> ADV =======> adverb =======> RB =======> adverb\n",
      "this =======> DET =======> determiner =======> DT =======> determiner\n",
      "year =======> NOUN =======> noun =======> NN =======> noun, singular or mass\n",
      "and =======> CCONJ =======> coordinating conjunction =======> CC =======> conjunction, coordinating\n",
      "pledges =======> NOUN =======> noun =======> NNS =======> noun, plural\n",
      "of =======> ADP =======> adposition =======> IN =======> conjunction, subordinating or preposition\n",
      "more =======> ADJ =======> adjective =======> JJR =======> adjective, comparative\n",
      "until =======> SCONJ =======> subordinating conjunction =======> IN =======> conjunction, subordinating or preposition\n",
      "inflation =======> NOUN =======> noun =======> NN =======> noun, singular or mass\n",
      "comes =======> VERB =======> verb =======> VBZ =======> verb, 3rd person singular present\n",
      "down =======> ADP =======> adposition =======> RP =======> adverb, particle\n",
      "to =======> ADP =======> adposition =======> IN =======> conjunction, subordinating or preposition\n",
      "the =======> DET =======> determiner =======> DT =======> determiner\n",
      "central =======> ADJ =======> adjective =======> JJ =======> adjective (English), other noun-modifier (Chinese)\n",
      "bank =======> NOUN =======> noun =======> NN =======> noun, singular or mass\n",
      "’s =======> PART =======> particle =======> POS =======> possessive ending\n",
      "2 =======> NUM =======> numeral =======> CD =======> cardinal number\n",
      "% =======> NOUN =======> noun =======> NN =======> noun, singular or mass\n",
      "goal =======> NOUN =======> noun =======> NN =======> noun, singular or mass\n",
      "However =======> ADV =======> adverb =======> RB =======> adverb\n",
      "Wednesday =======> PROPN =======> proper noun =======> NNP =======> noun, proper singular\n",
      "’s =======> PART =======> particle =======> POS =======> possessive ending\n",
      "data =======> NOUN =======> noun =======> NNS =======> noun, plural\n",
      "shows =======> VERB =======> verb =======> VBZ =======> verb, 3rd person singular present\n",
      "that =======> SCONJ =======> subordinating conjunction =======> IN =======> conjunction, subordinating or preposition\n",
      "the =======> DET =======> determiner =======> DT =======> determiner\n",
      "Fed =======> PROPN =======> proper noun =======> NNP =======> noun, proper singular\n",
      "has =======> VERB =======> verb =======> VBZ =======> verb, 3rd person singular present\n",
      "a =======> DET =======> determiner =======> DT =======> determiner\n",
      "big =======> ADJ =======> adjective =======> JJ =======> adjective (English), other noun-modifier (Chinese)\n",
      "job =======> NOUN =======> noun =======> NN =======> noun, singular or mass\n",
      "ahead =======> ADV =======> adverb =======> RB =======> adverb\n"
     ]
    }
   ],
   "source": [
    "import spacy\n",
    "\n",
    "nlp = spacy.load(\"en_core_web_sm\")\n",
    "text_data = \"\"\"Inflation rose again in April, continuing a climb that has pushed consumers to the brink and is threatening the economic expansion, the Bureau of Labor Statistics reported Wednesday.\n",
    "The consumer price index, a broad-based measure of prices for goods and services, increased 8.3% from a year ago, higher than the Dow Jones estimate for an 8.1% gain. That represented a slight ease from March’s peak but was still close to the highest level since the summer of 1982.\n",
    "Removing volatile food and energy prices, so-called core CPI still rose 6.2%, against expectations for a 6% gain, clouding hopes that inflation had peaked in March.\n",
    "The month-over-month gains also were higher than expectations — 0.3% on headline CPI versus the 0.2% estimate and a 0.6% increase for core, against the outlook for a 0.4% gain.\n",
    "The price gains also meant that workers continued to lose ground. Real wages adjusted for inflation decreased 0.1% on the month despite a nominal increase of 0.3% in average hourly earnings. Over the past year, real earnings have dropped 2.6% even though average hourly earnings are up 5.5%.\n",
    "Inflation has been the single biggest threat to a recovery that began early in the Covid pandemic and saw the economy in 2021 stage its biggest single-year growth level since 1984. Rising prices at the pump and in grocery stores have been one problem, but inflation has spread beyond those two areas into housing, auto sales and a host of other areas.\n",
    "Federal Reserve officials have responded to the problem with two interest rate hikes so far this year and pledges of more until inflation comes down to the central bank’s 2% goal. However, Wednesday’s data shows that the Fed has a big job ahead.\n",
    "\"\"\"\n",
    "\n",
    "doc = nlp(text_data)\n",
    "\n",
    "filtered_tokens = []\n",
    "\n",
    "for token in doc:\n",
    "    if token.pos_ not in [\"SPACE\", \"X\", \"PUNCT\"]:\n",
    "        filtered_tokens.append(token)\n",
    "        print(token, \"=======>\", token.pos_, \"=======>\", spacy.explain(token.pos_),\n",
    "          \"=======>\",token.tag_,\"=======>\",spacy.explain(token.tag_))"
   ]
  },
  {
   "cell_type": "code",
   "execution_count": 111,
   "id": "a4f0becc",
   "metadata": {},
   "outputs": [
    {
     "data": {
      "text/plain": [
       "[Inflation,\n",
       " rose,\n",
       " again,\n",
       " in,\n",
       " April,\n",
       " continuing,\n",
       " a,\n",
       " climb,\n",
       " that,\n",
       " has,\n",
       " pushed,\n",
       " consumers,\n",
       " to,\n",
       " the,\n",
       " brink,\n",
       " and,\n",
       " is,\n",
       " threatening,\n",
       " the,\n",
       " economic,\n",
       " expansion,\n",
       " the,\n",
       " Bureau,\n",
       " of,\n",
       " Labor,\n",
       " Statistics,\n",
       " reported,\n",
       " Wednesday,\n",
       " The,\n",
       " consumer,\n",
       " price,\n",
       " index,\n",
       " a,\n",
       " broad,\n",
       " based,\n",
       " measure,\n",
       " of,\n",
       " prices,\n",
       " for,\n",
       " goods,\n",
       " and,\n",
       " services,\n",
       " increased,\n",
       " 8.3,\n",
       " %,\n",
       " from,\n",
       " a,\n",
       " year,\n",
       " ago,\n",
       " higher,\n",
       " than,\n",
       " the,\n",
       " Dow,\n",
       " Jones,\n",
       " estimate,\n",
       " for,\n",
       " an,\n",
       " 8.1,\n",
       " %,\n",
       " gain,\n",
       " That,\n",
       " represented,\n",
       " a,\n",
       " slight,\n",
       " ease,\n",
       " from,\n",
       " March,\n",
       " ’s,\n",
       " peak,\n",
       " but,\n",
       " was,\n",
       " still,\n",
       " close,\n",
       " to,\n",
       " the,\n",
       " highest,\n",
       " level,\n",
       " since,\n",
       " the,\n",
       " summer,\n",
       " of,\n",
       " 1982,\n",
       " Removing,\n",
       " volatile,\n",
       " food,\n",
       " and,\n",
       " energy,\n",
       " prices,\n",
       " so,\n",
       " called,\n",
       " core,\n",
       " CPI,\n",
       " still,\n",
       " rose,\n",
       " 6.2,\n",
       " %,\n",
       " against,\n",
       " expectations,\n",
       " for,\n",
       " a,\n",
       " 6,\n",
       " %,\n",
       " gain,\n",
       " clouding,\n",
       " hopes,\n",
       " that,\n",
       " inflation,\n",
       " had,\n",
       " peaked,\n",
       " in,\n",
       " March,\n",
       " The,\n",
       " month,\n",
       " over,\n",
       " month,\n",
       " gains,\n",
       " also,\n",
       " were,\n",
       " higher,\n",
       " than,\n",
       " expectations,\n",
       " 0.3,\n",
       " %,\n",
       " on,\n",
       " headline,\n",
       " CPI,\n",
       " versus,\n",
       " the,\n",
       " 0.2,\n",
       " %,\n",
       " estimate,\n",
       " and,\n",
       " a,\n",
       " 0.6,\n",
       " %,\n",
       " increase,\n",
       " for,\n",
       " core,\n",
       " against,\n",
       " the,\n",
       " outlook,\n",
       " for,\n",
       " a,\n",
       " 0.4,\n",
       " %,\n",
       " gain,\n",
       " The,\n",
       " price,\n",
       " gains,\n",
       " also,\n",
       " meant,\n",
       " that,\n",
       " workers,\n",
       " continued,\n",
       " to,\n",
       " lose,\n",
       " ground,\n",
       " Real,\n",
       " wages,\n",
       " adjusted,\n",
       " for,\n",
       " inflation,\n",
       " decreased,\n",
       " 0.1,\n",
       " %,\n",
       " on,\n",
       " the,\n",
       " month,\n",
       " despite,\n",
       " a,\n",
       " nominal,\n",
       " increase,\n",
       " of,\n",
       " 0.3,\n",
       " %,\n",
       " in,\n",
       " average,\n",
       " hourly,\n",
       " earnings,\n",
       " Over,\n",
       " the,\n",
       " past,\n",
       " year,\n",
       " real,\n",
       " earnings,\n",
       " have,\n",
       " dropped,\n",
       " 2.6,\n",
       " %,\n",
       " even,\n",
       " though,\n",
       " average,\n",
       " hourly,\n",
       " earnings,\n",
       " are,\n",
       " up,\n",
       " 5.5,\n",
       " %,\n",
       " Inflation,\n",
       " has,\n",
       " been,\n",
       " the,\n",
       " single,\n",
       " biggest,\n",
       " threat,\n",
       " to,\n",
       " a,\n",
       " recovery,\n",
       " that,\n",
       " began,\n",
       " early,\n",
       " in,\n",
       " the,\n",
       " Covid,\n",
       " pandemic,\n",
       " and,\n",
       " saw,\n",
       " the,\n",
       " economy,\n",
       " in,\n",
       " 2021,\n",
       " stage,\n",
       " its,\n",
       " biggest,\n",
       " single,\n",
       " year,\n",
       " growth,\n",
       " level,\n",
       " since,\n",
       " 1984,\n",
       " Rising,\n",
       " prices,\n",
       " at,\n",
       " the,\n",
       " pump,\n",
       " and,\n",
       " in,\n",
       " grocery,\n",
       " stores,\n",
       " have,\n",
       " been,\n",
       " one,\n",
       " problem,\n",
       " but,\n",
       " inflation,\n",
       " has,\n",
       " spread,\n",
       " beyond,\n",
       " those,\n",
       " two,\n",
       " areas,\n",
       " into,\n",
       " housing,\n",
       " auto,\n",
       " sales,\n",
       " and,\n",
       " a,\n",
       " host,\n",
       " of,\n",
       " other,\n",
       " areas,\n",
       " Federal,\n",
       " Reserve,\n",
       " officials,\n",
       " have,\n",
       " responded,\n",
       " to,\n",
       " the,\n",
       " problem,\n",
       " with,\n",
       " two,\n",
       " interest,\n",
       " rate,\n",
       " hikes,\n",
       " so,\n",
       " far,\n",
       " this,\n",
       " year,\n",
       " and,\n",
       " pledges,\n",
       " of,\n",
       " more,\n",
       " until,\n",
       " inflation,\n",
       " comes,\n",
       " down,\n",
       " to,\n",
       " the,\n",
       " central,\n",
       " bank,\n",
       " ’s,\n",
       " 2,\n",
       " %,\n",
       " goal,\n",
       " However,\n",
       " Wednesday,\n",
       " ’s,\n",
       " data,\n",
       " shows,\n",
       " that,\n",
       " the,\n",
       " Fed,\n",
       " has,\n",
       " a,\n",
       " big,\n",
       " job,\n",
       " ahead]"
      ]
     },
     "execution_count": 111,
     "metadata": {},
     "output_type": "execute_result"
    }
   ],
   "source": [
    "filtered_tokens"
   ]
  },
  {
   "cell_type": "code",
   "execution_count": 113,
   "id": "53700f51",
   "metadata": {},
   "outputs": [
    {
     "data": {
      "text/plain": [
       "{92: 95,\n",
       " 100: 27,\n",
       " 86: 15,\n",
       " 85: 39,\n",
       " 96: 16,\n",
       " 97: 31,\n",
       " 90: 34,\n",
       " 95: 4,\n",
       " 87: 13,\n",
       " 89: 10,\n",
       " 84: 23,\n",
       " 103: 7,\n",
       " 93: 19,\n",
       " 94: 4,\n",
       " 98: 8}"
      ]
     },
     "execution_count": 113,
     "metadata": {},
     "output_type": "execute_result"
    }
   ],
   "source": [
    "cnt = doc.count_by(spacy.attrs.POS)\n",
    "cnt"
   ]
  },
  {
   "cell_type": "code",
   "execution_count": 115,
   "id": "f2806f6d",
   "metadata": {},
   "outputs": [
    {
     "data": {
      "text/plain": [
       "'NOUN'"
      ]
     },
     "execution_count": 115,
     "metadata": {},
     "output_type": "execute_result"
    }
   ],
   "source": [
    "doc.vocab[92].text"
   ]
  },
  {
   "cell_type": "code",
   "execution_count": 117,
   "id": "56d0b1f3",
   "metadata": {},
   "outputs": [],
   "source": [
    "import spacy\n",
    "nlp = spacy.load(\"en_core_web_sm\")"
   ]
  },
  {
   "cell_type": "code",
   "execution_count": 118,
   "id": "551804c4",
   "metadata": {},
   "outputs": [
    {
     "data": {
      "text/plain": [
       "['tok2vec', 'tagger', 'parser', 'attribute_ruler', 'lemmatizer', 'ner']"
      ]
     },
     "execution_count": 118,
     "metadata": {},
     "output_type": "execute_result"
    }
   ],
   "source": [
    "nlp.pipe_names"
   ]
  },
  {
   "cell_type": "code",
   "execution_count": 128,
   "id": "5ccd26c6",
   "metadata": {},
   "outputs": [
    {
     "name": "stdout",
     "output_type": "stream",
     "text": [
      "Tesla Inc =======> ORG =======> Companies, agencies, institutions, etc.\n",
      "Twitter Inc =======> ORG =======> Companies, agencies, institutions, etc.\n",
      "$45 billion =======> MONEY =======> Monetary values, including unit\n"
     ]
    }
   ],
   "source": [
    "doc = nlp(\"Tesla Inc is going to acquire Twitter Inc for $45 billion\")\n",
    "\n",
    "for ent in doc.ents:\n",
    "    print(ent, \"=======>\", ent.label_, \"=======>\", spacy.explain(ent.label_))"
   ]
  },
  {
   "cell_type": "code",
   "execution_count": 129,
   "id": "bf26d564",
   "metadata": {},
   "outputs": [
    {
     "data": {
      "text/html": [
       "<span class=\"tex2jax_ignore\"><div class=\"entities\" style=\"line-height: 2.5; direction: ltr\">\n",
       "<mark class=\"entity\" style=\"background: #7aecec; padding: 0.45em 0.6em; margin: 0 0.25em; line-height: 1; border-radius: 0.35em;\">\n",
       "    Tesla Inc\n",
       "    <span style=\"font-size: 0.8em; font-weight: bold; line-height: 1; border-radius: 0.35em; vertical-align: middle; margin-left: 0.5rem\">ORG</span>\n",
       "</mark>\n",
       " is going to acquire \n",
       "<mark class=\"entity\" style=\"background: #7aecec; padding: 0.45em 0.6em; margin: 0 0.25em; line-height: 1; border-radius: 0.35em;\">\n",
       "    Twitter Inc\n",
       "    <span style=\"font-size: 0.8em; font-weight: bold; line-height: 1; border-radius: 0.35em; vertical-align: middle; margin-left: 0.5rem\">ORG</span>\n",
       "</mark>\n",
       " for \n",
       "<mark class=\"entity\" style=\"background: #e4e7d2; padding: 0.45em 0.6em; margin: 0 0.25em; line-height: 1; border-radius: 0.35em;\">\n",
       "    $45 billion\n",
       "    <span style=\"font-size: 0.8em; font-weight: bold; line-height: 1; border-radius: 0.35em; vertical-align: middle; margin-left: 0.5rem\">MONEY</span>\n",
       "</mark>\n",
       "</div></span>"
      ],
      "text/plain": [
       "<IPython.core.display.HTML object>"
      ]
     },
     "metadata": {},
     "output_type": "display_data"
    }
   ],
   "source": [
    "from spacy import displacy\n",
    "\n",
    "displacy.render(doc, style=\"ent\")"
   ]
  },
  {
   "cell_type": "code",
   "execution_count": 130,
   "id": "0671876a",
   "metadata": {},
   "outputs": [
    {
     "data": {
      "text/plain": [
       "['CARDINAL',\n",
       " 'DATE',\n",
       " 'EVENT',\n",
       " 'FAC',\n",
       " 'GPE',\n",
       " 'LANGUAGE',\n",
       " 'LAW',\n",
       " 'LOC',\n",
       " 'MONEY',\n",
       " 'NORP',\n",
       " 'ORDINAL',\n",
       " 'ORG',\n",
       " 'PERCENT',\n",
       " 'PERSON',\n",
       " 'PRODUCT',\n",
       " 'QUANTITY',\n",
       " 'TIME',\n",
       " 'WORK_OF_ART']"
      ]
     },
     "execution_count": 130,
     "metadata": {},
     "output_type": "execute_result"
    }
   ],
   "source": [
    "nlp.pipe_labels['ner']"
   ]
  },
  {
   "cell_type": "code",
   "execution_count": 132,
   "id": "3920fa46",
   "metadata": {},
   "outputs": [
    {
     "name": "stdout",
     "output_type": "stream",
     "text": [
      "Michael Bloomberg =======> PERSON =======> People, including fictional\n",
      "Bloomberg =======> PERSON =======> People, including fictional\n",
      "1982 =======> DATE =======> Absolute or relative dates or periods\n"
     ]
    }
   ],
   "source": [
    "doc = nlp(\"Michael Bloomberg founded Bloomberg in 1982\")\n",
    "for ent in doc.ents:\n",
    "    print(ent.text, \"=======>\",  ent.label_, \"=======>\",  spacy.explain(ent.label_))"
   ]
  },
  {
   "cell_type": "markdown",
   "id": "e15019a4",
   "metadata": {},
   "source": [
    "# SPAN in SPACY"
   ]
  },
  {
   "cell_type": "code",
   "execution_count": 133,
   "id": "acd0351a",
   "metadata": {},
   "outputs": [
    {
     "name": "stdout",
     "output_type": "stream",
     "text": [
      "Michael Bloomberg =======> PERSON =======> People, including fictional\n",
      "Bloomberg =======> PERSON =======> People, including fictional\n",
      "1982 =======> DATE =======> Absolute or relative dates or periods\n"
     ]
    }
   ],
   "source": [
    "doc = nlp(\"Michael Bloomberg founded Bloomberg in 1982\")\n",
    "for ent in doc.ents:\n",
    "    print(ent.text, \"=======>\",  ent.label_, \"=======>\",  spacy.explain(ent.label_))"
   ]
  },
  {
   "cell_type": "code",
   "execution_count": 134,
   "id": "6245462c",
   "metadata": {},
   "outputs": [
    {
     "data": {
      "text/plain": [
       "spacy.tokens.span.Span"
      ]
     },
     "execution_count": 134,
     "metadata": {},
     "output_type": "execute_result"
    }
   ],
   "source": [
    "type(doc[2:5])"
   ]
  },
  {
   "cell_type": "code",
   "execution_count": 148,
   "id": "f0b38e01",
   "metadata": {},
   "outputs": [
    {
     "name": "stdout",
     "output_type": "stream",
     "text": [
      "Shankar =======> PERSON =======> People, including fictional\n",
      "Himalaya =======> PERSON =======> People, including fictional\n",
      "$3 billion =======> MONEY =======> Monetary values, including unit\n"
     ]
    }
   ],
   "source": [
    "doc = nlp(\"Shankar is going to acquire Himalaya for $3 billion\")\n",
    "for ent in doc.ents:\n",
    "    print(ent.text, \"=======>\",  ent.label_, \"=======>\",  spacy.explain(ent.label_))\n"
   ]
  },
  {
   "cell_type": "code",
   "execution_count": 149,
   "id": "64abd264",
   "metadata": {},
   "outputs": [],
   "source": [
    "from spacy.tokens import Span\n",
    "doc = nlp(\"Shankar is going to acquire Himalaya for $3 billion\")\n",
    "\n",
    "\n",
    "s1 = Span(doc, 0, 1, label=\"ORG\")\n",
    "s2 = Span(doc, 5, 6, label=\"ORG\")\n",
    "\n",
    "doc.set_ents(\n",
    "    [s1, s2],\n",
    "default='unmodified')"
   ]
  },
  {
   "cell_type": "code",
   "execution_count": 150,
   "id": "d5b5f461",
   "metadata": {},
   "outputs": [
    {
     "name": "stdout",
     "output_type": "stream",
     "text": [
      "Shankar =======> ORG =======> Companies, agencies, institutions, etc.\n",
      "Himalaya =======> ORG =======> Companies, agencies, institutions, etc.\n",
      "$3 billion =======> MONEY =======> Monetary values, including unit\n"
     ]
    }
   ],
   "source": [
    "for ent in doc.ents:\n",
    "    print(ent.text, \"=======>\",  ent.label_, \"=======>\",  spacy.explain(ent.label_))"
   ]
  },
  {
   "cell_type": "code",
   "execution_count": null,
   "id": "5fbf950c",
   "metadata": {},
   "outputs": [],
   "source": []
  }
 ],
 "metadata": {
  "kernelspec": {
   "display_name": "Python 3 (ipykernel)",
   "language": "python",
   "name": "python3"
  },
  "language_info": {
   "codemirror_mode": {
    "name": "ipython",
    "version": 3
   },
   "file_extension": ".py",
   "mimetype": "text/x-python",
   "name": "python",
   "nbconvert_exporter": "python",
   "pygments_lexer": "ipython3",
   "version": "3.10.4"
  }
 },
 "nbformat": 4,
 "nbformat_minor": 5
}
